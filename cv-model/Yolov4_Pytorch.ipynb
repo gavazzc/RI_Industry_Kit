{
 "cells": [
  {
   "cell_type": "markdown",
   "metadata": {},
   "source": [
    "# Yolov4 Pytorch 1.7 for Edge Devices with Amazon SageMaker\n",
    "\n",
    "\n",
    "Amazon SageMaker is a fully managed machine learning service. With SageMaker, data scientists and developers can quickly and easily build and train machine learning models, and then directly deploy them into a production-ready hosted environment. It provides an integrated Jupyter authoring notebook instance for easy access to your data sources for exploration and analysis, so you don't have to manage servers. It also provides common machine learning algorithms that are optimized to run efficiently against extremely large data in a distributed environment. With native support for bring-your-own-algorithms and frameworks, SageMaker offers flexible distributed training options that adjust to your specific workflows.\n",
    "\n",
    "SageMaker also offers capabilities to prepare models for deployment at the edge. [SageMaker Neo](https://docs.aws.amazon.com/sagemaker/latest/dg/neo.html) is a capability of Amazon SageMaker that enables machine learning models to train once and run anywhere in the cloud and at the edge and [Amazon SageMaker Edge Manager](https://docs.aws.amazon.com/sagemaker/latest/dg/edge.html) provides model management for edge devices so you can optimize, secure, monitor, and maintain machine learning models on fleets of edge devices such as smart cameras, robots, personal computers, and mobile devices.\n",
    "\n",
    "\n",
    "In this notebook we'll train a [**Yolov4**](https://github.com/WongKinYiu/PyTorch_YOLOv4) model on Pytorch using Amazon SageMaker to draw bounding boxes around images and then, compile and package it so that it can be deployed on an edge device(in this case, a [Jetson Xavier](https://developer.nvidia.com/jetpack-sdk-441-archive)).\n",
    "\n"
   ]
  },
  {
   "cell_type": "markdown",
   "metadata": {},
   "source": [
    "## 1) Pre-requisites\n",
    "\n",
    "Let us start with setting up the pre-requisites for this notebook. First, we will sagemaker and other related libs and then set up the role and buckets and some variables. Note that, we are also specifying the size of the image and also the model size taken as Yolov4s where s stand for small. Check out the [github doc of yolov4](https://github.com/WongKinYiu/PyTorch_YOLOv4) to understand how model sizes differ."
   ]
  },
  {
   "cell_type": "code",
   "execution_count": 1,
   "metadata": {},
   "outputs": [],
   "source": [
    "import sagemaker\n",
    "import numpy as np\n",
    "import glob\n",
    "import os\n",
    "from sagemaker.pytorch.estimator import PyTorch\n",
    "\n",
    "role = sagemaker.get_execution_role()\n",
    "sagemaker_session=sagemaker.Session()\n",
    "bucket_name = sagemaker_session.default_bucket()\n",
    "img_size= 512\n",
    "model_type='tiny' # tiny or ''\n",
    "model_name='yolov4'if model_type=='' else f\"yolov4-{model_type}\""
   ]
  },
  {
   "cell_type": "markdown",
   "metadata": {},
   "source": [
    "## 2) Download a public implementation of Yolov4 for Pytorch (Author: Wong Kin Yiu)\n",
    "\n",
    "Now, we will download the PyTorch implementation of Yolov4 from this [repository](https://github.com/WongKinYiu/PyTorch_YOLOv4) which is authored by Wong Kin Yiu. We will place it in a local directory `yolov4`"
   ]
  },
  {
   "cell_type": "code",
   "execution_count": 2,
   "metadata": {},
   "outputs": [],
   "source": [
    "if not os.path.isdir('yolov4'):\n",
    "    !git clone https://github.com/WongKinYiu/PyTorch_YOLOv4 yolov4\n",
    "    !cd yolov4 && git checkout 3c42cbd1b0fa28ad19436d01e0e240404463ff80 && git apply ../mish.patch\n",
    "    !echo 'tensorboard' > yolov4/requirements.txt"
   ]
  },
  {
   "cell_type": "markdown",
   "metadata": {},
   "source": [
    "## 2.1) Train the model by preparing a Python script that will be the entrypoint of the training process\n",
    "\n",
    "Now, we will create a training script to train the Yolov4 model. The training script will wrap the original training scripts and expose the parameters to SageMaker Estimator. The script accepts different arguments which will control the training process."
   ]
  },
  {
   "cell_type": "code",
   "execution_count": 3,
   "metadata": {
    "scrolled": true
   },
   "outputs": [
    {
     "name": "stdout",
     "output_type": "stream",
     "text": [
      "Overwriting yolov4/sagemaker_train.py\n"
     ]
    }
   ],
   "source": [
    "%%writefile yolov4/sagemaker_train.py\n",
    "import sys\n",
    "import subprocess\n",
    "## We need to remove smdebug to avoid the Hook bug https://github.com/awslabs/sagemaker-debugger/issues/401\n",
    "subprocess.check_call([sys.executable, \"-m\", \"pip\", \"uninstall\", \"-y\", \"smdebug\"])\n",
    "import os\n",
    "import yaml\n",
    "import argparse\n",
    "import torch\n",
    "import shutil\n",
    "import urllib\n",
    "from models.models import Darknet\n",
    "\n",
    "if __name__ == '__main__':\n",
    "    parser = argparse.ArgumentParser()\n",
    "    \n",
    "    parser.add_argument('--num-classes', type=int, default=80, help='Number of classes')\n",
    "    parser.add_argument('--img-size', type=int, default=512, help='Size of the image')\n",
    "    parser.add_argument('--epochs', type=int, default=1, help='Number of epochs')\n",
    "    parser.add_argument('--batch-size', type=int, default=16, help='Batch size')\n",
    "    parser.add_argument('--adam', action='store_true', help='use torch.optim.Adam() optimizer')\n",
    "    parser.add_argument('--pretrained', action='store_true', help='use pretrained model')\n",
    "    \n",
    "    parser.add_argument('--model-dir', type=str, default=os.environ[\"SM_MODEL_DIR\"], help='Trained model dir')\n",
    "    parser.add_argument('--train', type=str, default=os.environ[\"SM_CHANNEL_TRAIN\"], help='Train path')\n",
    "    parser.add_argument('--train-suffix', type=str, default='', help='Train path suffix')\n",
    "    parser.add_argument('--validation', type=str, default=os.environ[\"SM_CHANNEL_VALIDATION\"], help='Validation path')\n",
    "    parser.add_argument('--validation-suffix', type=str, default='', help='Validation path suffix')\n",
    "    \n",
    "    parser.add_argument('--model-type', type=str, choices=['', 'tiny'], default=\"\", help='Model type')\n",
    "    \n",
    "    # hyperparameters\n",
    "    with open('data/hyp.scratch.yaml', 'r') as f:\n",
    "        hyperparams = yaml.load(f, Loader=yaml.FullLoader)    \n",
    "    for k,v in hyperparams.items():\n",
    "        parser.add_argument(f\"--{k.replace('_', '-')}\", type=float, default=v)\n",
    "    \n",
    "    args,unknown = parser.parse_known_args()\n",
    "    \n",
    "    base_path=os.path.dirname(__file__)\n",
    "    project_dir = os.environ[\"SM_OUTPUT_DATA_DIR\"]\n",
    "\n",
    "    # prepare the hyperparameters metadat\n",
    "    with open(os.path.join(base_path,'data', 'hyp.custom.yaml'), 'w' ) as y:\n",
    "        y.write(yaml.dump({h:vars(args)[h] for h in hyperparams.keys()}))\n",
    "\n",
    "    # prepare the training data metadata\n",
    "    with open(os.path.join(base_path,'data', 'custom.yaml'), 'w') as y:\n",
    "        y.write(yaml.dump({            \n",
    "            'names': [f'class_{i}' for i in range(args.num_classes)],\n",
    "            'train': os.path.join(args.train, args.train_suffix),\n",
    "            'val': os.path.join(args.validation, args.validation_suffix),\n",
    "            'nc': args.num_classes\n",
    "        }))\n",
    "    model_name = \"yolov4\" if len(args.model_type) == 0 else f\"yolov4-{args.model_type}\"\n",
    "    # run the training script\n",
    "    weights_file=''\n",
    "    if args.pretrained:\n",
    "        weights_file = f'weights/{model_name}.weights'\n",
    "        urllib.request.urlretrieve(\n",
    "            f'https://github.com/AlexeyAB/darknet/releases/download/darknet_yolo_v4_pre/{model_name}.weights',\n",
    "            weights_file\n",
    "        )\n",
    "\n",
    "    train_cmd = [\n",
    "        sys.executable, os.path.join(base_path,'train.py'),\n",
    "        \"--data\", \"custom.yaml\",\n",
    "        \"--hyp\", \"hyp.custom.yaml\",\n",
    "        \"--cfg\", f\"cfg/{model_name}.cfg\",\n",
    "        \"--img\", str(args.img_size),\n",
    "        \"--batch\", str(args.batch_size),\n",
    "        \"--epochs\", str(args.epochs),\n",
    "        \"--logdir\", project_dir,\n",
    "        \"--weights\", weights_file\n",
    "    ]\n",
    "    if args.adam: train_cmd.append(\"--adam\")\n",
    "    subprocess.check_call(train_cmd)\n",
    "        \n",
    "    # tracing and saving the model\n",
    "    inp = torch.rand(1, 3, args.img_size, args.img_size).cpu()\n",
    "    ckpt = torch.load(os.path.join(project_dir, 'exp0', 'weights', 'best.pt'), map_location='cpu')\n",
    "    model = Darknet(f\"cfg/{model_name}.cfg\").cpu()\n",
    "    # do not invoke .eval(). we don't need the detection layer\n",
    "    model.load_state_dict(ckpt['model'], strict=False)\n",
    "    p = model(inp)\n",
    "    model_trace = torch.jit.trace(model, inp)\n",
    "    model_trace.save(os.path.join(args.model_dir, 'model.pth'))"
   ]
  },
  {
   "cell_type": "markdown",
   "metadata": {},
   "source": [
    "### 2.1.2) Preparing the dataset\n",
    "\n",
    "Here we'll download a sample dataset [coco128](https://github.com/ultralytics/yolov5/releases/download/v1.0/coco128.zip). We can also replace this step with any other dataset. \n",
    "\n",
    "Just take a look on the labels format and create your dataset scructure following the same standard (COCO)."
   ]
  },
  {
   "cell_type": "code",
   "execution_count": 6,
   "metadata": {},
   "outputs": [
    {
     "name": "stdout",
     "output_type": "stream",
     "text": [
      "BBoxes annotation\n",
      "class x_center y_center width height\n",
      "0 0.983154 0.667764 0.019668 0.025449\n",
      "1 0.145215 0.276865 0.290430 0.192754\n"
     ]
    }
   ],
   "source": [
    "import os\n",
    "#if not os.path.exists('coco128'):\n",
    "#    !wget -q https://github.com/ultralytics/yolov5/releases/download/v1.0/coco128.zip\n",
    "#    !unzip -q coco128.zip && rm -f coco128.zip\n",
    "print('BBoxes annotation')\n",
    "print('class x_center y_center width height')\n",
    "!head panelscoco512/labels/2_3-1_thermal_cropped0.txt"
   ]
  },
  {
   "cell_type": "markdown",
   "metadata": {},
   "source": [
    "### 2.1.3) Upload the dataset to S3\n",
    "\n",
    "Once the dataset has been downloaded locally, we'll upload the dataset to an S3 bucket created earlier. We are setting up the training and validation dataset s3 locations here."
   ]
  },
  {
   "cell_type": "code",
   "execution_count": 7,
   "metadata": {},
   "outputs": [
    {
     "name": "stdout",
     "output_type": "stream",
     "text": [
      "s3://sagemaker-eu-west-1-763989535729/data/panelscoco512/train s3://sagemaker-eu-west-1-763989535729/data/panelscoco512/val\n"
     ]
    }
   ],
   "source": [
    "prefix='data/panelscoco512'\n",
    "!rm -f panelscoco512/labels/train2022.cache\n",
    "train_path = sagemaker_session.upload_data('panelscoco512', key_prefix=f'{prefix}/train')\n",
    "val_path = sagemaker_session.upload_data('panelscoco512', key_prefix=f'{prefix}/val')\n",
    "print(train_path, val_path)"
   ]
  },
  {
   "cell_type": "markdown",
   "metadata": {},
   "source": [
    "### 2.1.4) Prepare the SageMaker Estimator to train the model\n",
    "\n",
    "Now it's time to create an Estimater and train the model with the training script created in earlier step. We are using Pytorch estimator and supplying other arguments in the estimator. Note that we are supplying the `source_dir` so that sagemaker can pick up the training script and other related files from there. Once the estimator is ready, we start the training using the `.fit()` method."
   ]
  },
  {
   "cell_type": "code",
   "execution_count": 8,
   "metadata": {},
   "outputs": [],
   "source": [
    "estimator = PyTorch(\n",
    "    'sagemaker_train.py',\n",
    "    source_dir='yolov4',\n",
    "    framework_version='1.7',\n",
    "    role=role,\n",
    "    sagemaker_session=sagemaker_session,\n",
    "    instance_type='ml.p2.xlarge',    \n",
    "    instance_count=1,\n",
    "    py_version='py3', \n",
    "    hyperparameters={\n",
    "        'epochs': 20, # at least 2 epochs\n",
    "        'batch-size': 8,\n",
    "        'lr0': 0.0001,\n",
    "        'pretrained': True, # transfer learning\n",
    "        'num-classes': 2,\n",
    "        'img-size': img_size,\n",
    "        'model-type': model_type,\n",
    "        'train-suffix': 'images',\n",
    "        'validation-suffix': 'images'\n",
    "    }\n",
    ")"
   ]
  },
  {
   "cell_type": "code",
   "execution_count": 9,
   "metadata": {
    "scrolled": true
   },
   "outputs": [
    {
     "name": "stdout",
     "output_type": "stream",
     "text": [
      "2022-03-18 17:08:22 Starting - Starting the training job...\n",
      "2022-03-18 17:08:47 Starting - Preparing the instances for trainingProfilerReport-1647623300: InProgress\n",
      ".........\n",
      "2022-03-18 17:10:08 Downloading - Downloading input data......\n",
      "2022-03-18 17:11:19 Training - Downloading the training image........................\n",
      "2022-03-18 17:15:16 Training - Training image download completed. Training in progress..\u001b[34mbash: cannot set terminal process group (-1): Inappropriate ioctl for device\u001b[0m\n",
      "\u001b[34mbash: no job control in this shell\u001b[0m\n",
      "\u001b[34m2022-03-18 17:15:20,650 sagemaker-training-toolkit INFO     Imported framework sagemaker_pytorch_container.training\u001b[0m\n",
      "\u001b[34m2022-03-18 17:15:20,682 sagemaker_pytorch_container.training INFO     Block until all host DNS lookups succeed.\u001b[0m\n",
      "\u001b[34m2022-03-18 17:15:20,702 sagemaker_pytorch_container.training INFO     Invoking user training script.\u001b[0m\n",
      "\u001b[34m2022-03-18 17:15:21,322 sagemaker-training-toolkit INFO     Installing dependencies from requirements.txt:\u001b[0m\n",
      "\u001b[34m/opt/conda/bin/python3.6 -m pip install -r requirements.txt\u001b[0m\n",
      "\u001b[34mCollecting tensorboard\n",
      "  Downloading tensorboard-2.8.0-py3-none-any.whl (5.8 MB)\u001b[0m\n",
      "\u001b[34mCollecting markdown>=2.6.8\n",
      "  Downloading Markdown-3.3.6-py3-none-any.whl (97 kB)\u001b[0m\n",
      "\u001b[34mRequirement already satisfied: werkzeug>=0.11.15 in /opt/conda/lib/python3.6/site-packages (from tensorboard->-r requirements.txt (line 1)) (2.0.1)\u001b[0m\n",
      "\u001b[34mRequirement already satisfied: protobuf>=3.6.0 in /opt/conda/lib/python3.6/site-packages (from tensorboard->-r requirements.txt (line 1)) (3.17.1)\u001b[0m\n",
      "\u001b[34mRequirement already satisfied: setuptools>=41.0.0 in /opt/conda/lib/python3.6/site-packages (from tensorboard->-r requirements.txt (line 1)) (49.6.0.post20210108)\u001b[0m\n",
      "\u001b[34mCollecting grpcio>=1.24.3\n",
      "  Downloading grpcio-1.44.0-cp36-cp36m-manylinux_2_17_x86_64.manylinux2014_x86_64.whl (4.3 MB)\u001b[0m\n",
      "\u001b[34mRequirement already satisfied: numpy>=1.12.0 in /opt/conda/lib/python3.6/site-packages (from tensorboard->-r requirements.txt (line 1)) (1.19.1)\u001b[0m\n",
      "\u001b[34mRequirement already satisfied: requests<3,>=2.21.0 in /opt/conda/lib/python3.6/site-packages (from tensorboard->-r requirements.txt (line 1)) (2.25.1)\u001b[0m\n",
      "\u001b[34mCollecting absl-py>=0.4\n",
      "  Downloading absl_py-1.0.0-py3-none-any.whl (126 kB)\u001b[0m\n",
      "\u001b[34mCollecting tensorboard-data-server<0.7.0,>=0.6.0\n",
      "  Downloading tensorboard_data_server-0.6.1-py3-none-manylinux2010_x86_64.whl (4.9 MB)\u001b[0m\n",
      "\u001b[34mRequirement already satisfied: wheel>=0.26 in /opt/conda/lib/python3.6/site-packages (from tensorboard->-r requirements.txt (line 1)) (0.35.1)\u001b[0m\n",
      "\u001b[34mCollecting tensorboard-plugin-wit>=1.6.0\n",
      "  Downloading tensorboard_plugin_wit-1.8.1-py3-none-any.whl (781 kB)\u001b[0m\n",
      "\u001b[34mCollecting google-auth-oauthlib<0.5,>=0.4.1\n",
      "  Downloading google_auth_oauthlib-0.4.6-py2.py3-none-any.whl (18 kB)\u001b[0m\n",
      "\u001b[34mCollecting google-auth<3,>=1.6.3\n",
      "  Downloading google_auth-2.6.2-py2.py3-none-any.whl (156 kB)\u001b[0m\n",
      "\u001b[34mRequirement already satisfied: six in /opt/conda/lib/python3.6/site-packages (from absl-py>=0.4->tensorboard->-r requirements.txt (line 1)) (1.16.0)\u001b[0m\n",
      "\u001b[34mCollecting pyasn1-modules>=0.2.1\n",
      "  Downloading pyasn1_modules-0.2.8-py2.py3-none-any.whl (155 kB)\u001b[0m\n",
      "\u001b[34mRequirement already satisfied: rsa<5,>=3.1.4 in /opt/conda/lib/python3.6/site-packages (from google-auth<3,>=1.6.3->tensorboard->-r requirements.txt (line 1)) (4.7.2)\u001b[0m\n",
      "\u001b[34mCollecting cachetools<6.0,>=2.0.0\n",
      "  Downloading cachetools-4.2.4-py3-none-any.whl (10 kB)\u001b[0m\n",
      "\u001b[34mCollecting requests-oauthlib>=0.7.0\n",
      "  Downloading requests_oauthlib-1.3.1-py2.py3-none-any.whl (23 kB)\u001b[0m\n",
      "\u001b[34mCollecting importlib-metadata>=4.4\n",
      "  Downloading importlib_metadata-4.8.3-py3-none-any.whl (17 kB)\u001b[0m\n",
      "\u001b[34mRequirement already satisfied: typing-extensions>=3.6.4 in /opt/conda/lib/python3.6/site-packages (from importlib-metadata>=4.4->markdown>=2.6.8->tensorboard->-r requirements.txt (line 1)) (3.10.0.0)\u001b[0m\n",
      "\u001b[34mRequirement already satisfied: zipp>=0.5 in /opt/conda/lib/python3.6/site-packages (from importlib-metadata>=4.4->markdown>=2.6.8->tensorboard->-r requirements.txt (line 1)) (3.4.1)\u001b[0m\n",
      "\u001b[34mRequirement already satisfied: pyasn1<0.5.0,>=0.4.6 in /opt/conda/lib/python3.6/site-packages (from pyasn1-modules>=0.2.1->google-auth<3,>=1.6.3->tensorboard->-r requirements.txt (line 1)) (0.4.8)\u001b[0m\n",
      "\u001b[34mRequirement already satisfied: certifi>=2017.4.17 in /opt/conda/lib/python3.6/site-packages (from requests<3,>=2.21.0->tensorboard->-r requirements.txt (line 1)) (2020.12.5)\u001b[0m\n",
      "\u001b[34mRequirement already satisfied: chardet<5,>=3.0.2 in /opt/conda/lib/python3.6/site-packages (from requests<3,>=2.21.0->tensorboard->-r requirements.txt (line 1)) (3.0.4)\u001b[0m\n",
      "\u001b[34mRequirement already satisfied: urllib3<1.27,>=1.21.1 in /opt/conda/lib/python3.6/site-packages (from requests<3,>=2.21.0->tensorboard->-r requirements.txt (line 1)) (1.25.11)\u001b[0m\n",
      "\u001b[34mRequirement already satisfied: idna<3,>=2.5 in /opt/conda/lib/python3.6/site-packages (from requests<3,>=2.21.0->tensorboard->-r requirements.txt (line 1)) (2.10)\u001b[0m\n",
      "\u001b[34mCollecting oauthlib>=3.0.0\n",
      "  Downloading oauthlib-3.2.0-py3-none-any.whl (151 kB)\u001b[0m\n",
      "\u001b[34mRequirement already satisfied: dataclasses in /opt/conda/lib/python3.6/site-packages (from werkzeug>=0.11.15->tensorboard->-r requirements.txt (line 1)) (0.8)\u001b[0m\n",
      "\u001b[34mInstalling collected packages: pyasn1-modules, oauthlib, cachetools, requests-oauthlib, importlib-metadata, google-auth, tensorboard-plugin-wit, tensorboard-data-server, markdown, grpcio, google-auth-oauthlib, absl-py, tensorboard\n",
      "  Attempting uninstall: importlib-metadata\n",
      "    Found existing installation: importlib-metadata 4.0.1\n",
      "    Uninstalling importlib-metadata-4.0.1:\n",
      "      Successfully uninstalled importlib-metadata-4.0.1\u001b[0m\n",
      "\u001b[34mSuccessfully installed absl-py-1.0.0 cachetools-4.2.4 google-auth-2.6.2 google-auth-oauthlib-0.4.6 grpcio-1.44.0 importlib-metadata-4.8.3 markdown-3.3.6 oauthlib-3.2.0 pyasn1-modules-0.2.8 requests-oauthlib-1.3.1 tensorboard-2.8.0 tensorboard-data-server-0.6.1 tensorboard-plugin-wit-1.8.1\u001b[0m\n",
      "\u001b[34mWARNING: Running pip as root will break packages and permissions. You should install packages reliably by using venv: https://pip.pypa.io/warnings/venv\u001b[0m\n",
      "\u001b[34m2022-03-18 17:15:29,688 sagemaker-training-toolkit INFO     Invoking user script\u001b[0m\n",
      "\u001b[34mTraining Env:\u001b[0m\n",
      "\u001b[34m{\n",
      "    \"additional_framework_parameters\": {},\n",
      "    \"channel_input_dirs\": {\n",
      "        \"train\": \"/opt/ml/input/data/train\",\n",
      "        \"validation\": \"/opt/ml/input/data/validation\"\n",
      "    },\n",
      "    \"current_host\": \"algo-1\",\n",
      "    \"framework_module\": \"sagemaker_pytorch_container.training:main\",\n",
      "    \"hosts\": [\n",
      "        \"algo-1\"\n",
      "    ],\n",
      "    \"hyperparameters\": {\n",
      "        \"batch-size\": 8,\n",
      "        \"epochs\": 20,\n",
      "        \"img-size\": 512,\n",
      "        \"lr0\": 0.0001,\n",
      "        \"model-type\": \"tiny\",\n",
      "        \"num-classes\": 2,\n",
      "        \"pretrained\": true,\n",
      "        \"train-suffix\": \"images\",\n",
      "        \"validation-suffix\": \"images\"\n",
      "    },\n",
      "    \"input_config_dir\": \"/opt/ml/input/config\",\n",
      "    \"input_data_config\": {\n",
      "        \"train\": {\n",
      "            \"TrainingInputMode\": \"File\",\n",
      "            \"S3DistributionType\": \"FullyReplicated\",\n",
      "            \"RecordWrapperType\": \"None\"\n",
      "        },\n",
      "        \"validation\": {\n",
      "            \"TrainingInputMode\": \"File\",\n",
      "            \"S3DistributionType\": \"FullyReplicated\",\n",
      "            \"RecordWrapperType\": \"None\"\n",
      "        }\n",
      "    },\n",
      "    \"input_dir\": \"/opt/ml/input\",\n",
      "    \"is_master\": true,\n",
      "    \"job_name\": \"pytorch-training-2022-03-18-17-08-20-984\",\n",
      "    \"log_level\": 20,\n",
      "    \"master_hostname\": \"algo-1\",\n",
      "    \"model_dir\": \"/opt/ml/model\",\n",
      "    \"module_dir\": \"s3://sagemaker-eu-west-1-763989535729/pytorch-training-2022-03-18-17-08-20-984/source/sourcedir.tar.gz\",\n",
      "    \"module_name\": \"sagemaker_train\",\n",
      "    \"network_interface_name\": \"eth0\",\n",
      "    \"num_cpus\": 4,\n",
      "    \"num_gpus\": 1,\n",
      "    \"output_data_dir\": \"/opt/ml/output/data\",\n",
      "    \"output_dir\": \"/opt/ml/output\",\n",
      "    \"output_intermediate_dir\": \"/opt/ml/output/intermediate\",\n",
      "    \"resource_config\": {\n",
      "        \"current_host\": \"algo-1\",\n",
      "        \"current_instance_type\": \"ml.p2.xlarge\",\n",
      "        \"current_group_name\": \"homogeneousCluster\",\n",
      "        \"hosts\": [\n",
      "            \"algo-1\"\n",
      "        ],\n",
      "        \"instance_groups\": [\n",
      "            {\n",
      "                \"instance_group_name\": \"homogeneousCluster\",\n",
      "                \"instance_type\": \"ml.p2.xlarge\",\n",
      "                \"hosts\": [\n",
      "                    \"algo-1\"\n",
      "                ]\n",
      "            }\n",
      "        ],\n",
      "        \"network_interface_name\": \"eth0\"\n",
      "    },\n",
      "    \"user_entry_point\": \"sagemaker_train.py\"\u001b[0m\n",
      "\u001b[34m}\u001b[0m\n",
      "\u001b[34mEnvironment variables:\u001b[0m\n",
      "\u001b[34mSM_HOSTS=[\"algo-1\"]\u001b[0m\n",
      "\u001b[34mSM_NETWORK_INTERFACE_NAME=eth0\u001b[0m\n",
      "\u001b[34mSM_HPS={\"batch-size\":8,\"epochs\":20,\"img-size\":512,\"lr0\":0.0001,\"model-type\":\"tiny\",\"num-classes\":2,\"pretrained\":true,\"train-suffix\":\"images\",\"validation-suffix\":\"images\"}\u001b[0m\n",
      "\u001b[34mSM_USER_ENTRY_POINT=sagemaker_train.py\u001b[0m\n",
      "\u001b[34mSM_FRAMEWORK_PARAMS={}\u001b[0m\n",
      "\u001b[34mSM_RESOURCE_CONFIG={\"current_group_name\":\"homogeneousCluster\",\"current_host\":\"algo-1\",\"current_instance_type\":\"ml.p2.xlarge\",\"hosts\":[\"algo-1\"],\"instance_groups\":[{\"hosts\":[\"algo-1\"],\"instance_group_name\":\"homogeneousCluster\",\"instance_type\":\"ml.p2.xlarge\"}],\"network_interface_name\":\"eth0\"}\u001b[0m\n",
      "\u001b[34mSM_INPUT_DATA_CONFIG={\"train\":{\"RecordWrapperType\":\"None\",\"S3DistributionType\":\"FullyReplicated\",\"TrainingInputMode\":\"File\"},\"validation\":{\"RecordWrapperType\":\"None\",\"S3DistributionType\":\"FullyReplicated\",\"TrainingInputMode\":\"File\"}}\u001b[0m\n",
      "\u001b[34mSM_OUTPUT_DATA_DIR=/opt/ml/output/data\u001b[0m\n",
      "\u001b[34mSM_CHANNELS=[\"train\",\"validation\"]\u001b[0m\n",
      "\u001b[34mSM_CURRENT_HOST=algo-1\u001b[0m\n",
      "\u001b[34mSM_MODULE_NAME=sagemaker_train\u001b[0m\n",
      "\u001b[34mSM_LOG_LEVEL=20\u001b[0m\n",
      "\u001b[34mSM_FRAMEWORK_MODULE=sagemaker_pytorch_container.training:main\u001b[0m\n",
      "\u001b[34mSM_INPUT_DIR=/opt/ml/input\u001b[0m\n",
      "\u001b[34mSM_INPUT_CONFIG_DIR=/opt/ml/input/config\u001b[0m\n",
      "\u001b[34mSM_OUTPUT_DIR=/opt/ml/output\u001b[0m\n",
      "\u001b[34mSM_NUM_CPUS=4\u001b[0m\n",
      "\u001b[34mSM_NUM_GPUS=1\u001b[0m\n",
      "\u001b[34mSM_MODEL_DIR=/opt/ml/model\u001b[0m\n",
      "\u001b[34mSM_MODULE_DIR=s3://sagemaker-eu-west-1-763989535729/pytorch-training-2022-03-18-17-08-20-984/source/sourcedir.tar.gz\u001b[0m\n",
      "\u001b[34mSM_TRAINING_ENV={\"additional_framework_parameters\":{},\"channel_input_dirs\":{\"train\":\"/opt/ml/input/data/train\",\"validation\":\"/opt/ml/input/data/validation\"},\"current_host\":\"algo-1\",\"framework_module\":\"sagemaker_pytorch_container.training:main\",\"hosts\":[\"algo-1\"],\"hyperparameters\":{\"batch-size\":8,\"epochs\":20,\"img-size\":512,\"lr0\":0.0001,\"model-type\":\"tiny\",\"num-classes\":2,\"pretrained\":true,\"train-suffix\":\"images\",\"validation-suffix\":\"images\"},\"input_config_dir\":\"/opt/ml/input/config\",\"input_data_config\":{\"train\":{\"RecordWrapperType\":\"None\",\"S3DistributionType\":\"FullyReplicated\",\"TrainingInputMode\":\"File\"},\"validation\":{\"RecordWrapperType\":\"None\",\"S3DistributionType\":\"FullyReplicated\",\"TrainingInputMode\":\"File\"}},\"input_dir\":\"/opt/ml/input\",\"is_master\":true,\"job_name\":\"pytorch-training-2022-03-18-17-08-20-984\",\"log_level\":20,\"master_hostname\":\"algo-1\",\"model_dir\":\"/opt/ml/model\",\"module_dir\":\"s3://sagemaker-eu-west-1-763989535729/pytorch-training-2022-03-18-17-08-20-984/source/sourcedir.tar.gz\",\"module_name\":\"sagemaker_train\",\"network_interface_name\":\"eth0\",\"num_cpus\":4,\"num_gpus\":1,\"output_data_dir\":\"/opt/ml/output/data\",\"output_dir\":\"/opt/ml/output\",\"output_intermediate_dir\":\"/opt/ml/output/intermediate\",\"resource_config\":{\"current_group_name\":\"homogeneousCluster\",\"current_host\":\"algo-1\",\"current_instance_type\":\"ml.p2.xlarge\",\"hosts\":[\"algo-1\"],\"instance_groups\":[{\"hosts\":[\"algo-1\"],\"instance_group_name\":\"homogeneousCluster\",\"instance_type\":\"ml.p2.xlarge\"}],\"network_interface_name\":\"eth0\"},\"user_entry_point\":\"sagemaker_train.py\"}\u001b[0m\n",
      "\u001b[34mSM_USER_ARGS=[\"--batch-size\",\"8\",\"--epochs\",\"20\",\"--img-size\",\"512\",\"--lr0\",\"0.0001\",\"--model-type\",\"tiny\",\"--num-classes\",\"2\",\"--pretrained\",\"True\",\"--train-suffix\",\"images\",\"--validation-suffix\",\"images\"]\u001b[0m\n",
      "\u001b[34mSM_OUTPUT_INTERMEDIATE_DIR=/opt/ml/output/intermediate\u001b[0m\n",
      "\u001b[34mSM_CHANNEL_TRAIN=/opt/ml/input/data/train\u001b[0m\n",
      "\u001b[34mSM_CHANNEL_VALIDATION=/opt/ml/input/data/validation\u001b[0m\n",
      "\u001b[34mSM_HP_BATCH-SIZE=8\u001b[0m\n",
      "\u001b[34mSM_HP_EPOCHS=20\u001b[0m\n",
      "\u001b[34mSM_HP_IMG-SIZE=512\u001b[0m\n",
      "\u001b[34mSM_HP_LR0=0.0001\u001b[0m\n",
      "\u001b[34mSM_HP_MODEL-TYPE=tiny\u001b[0m\n",
      "\u001b[34mSM_HP_NUM-CLASSES=2\u001b[0m\n",
      "\u001b[34mSM_HP_PRETRAINED=true\u001b[0m\n",
      "\u001b[34mSM_HP_TRAIN-SUFFIX=images\u001b[0m\n",
      "\u001b[34mSM_HP_VALIDATION-SUFFIX=images\u001b[0m\n",
      "\u001b[34mPYTHONPATH=/opt/ml/code:/opt/conda/bin:/opt/conda/lib/python36.zip:/opt/conda/lib/python3.6:/opt/conda/lib/python3.6/lib-dynload:/opt/conda/lib/python3.6/site-packages\u001b[0m\n",
      "\u001b[34mInvoking script with the following command:\u001b[0m\n",
      "\u001b[34m/opt/conda/bin/python3.6 sagemaker_train.py --batch-size 8 --epochs 20 --img-size 512 --lr0 0.0001 --model-type tiny --num-classes 2 --pretrained True --train-suffix images --validation-suffix images\u001b[0m\n",
      "\u001b[34mFound existing installation: smdebug 1.0.9\u001b[0m\n",
      "\u001b[34mUninstalling smdebug-1.0.9:\n",
      "  Successfully uninstalled smdebug-1.0.9\u001b[0m\n",
      "\u001b[34mUsing CUDA device0 _CudaDeviceProperties(name='Tesla K80', total_memory=11441MB)\u001b[0m\n",
      "\u001b[34mNamespace(adam=False, batch_size=8, bucket='', cache_images=False, cfg='cfg/yolov4-tiny.cfg', data='./data/custom.yaml', device='', epochs=20, evolve=False, global_rank=-1, hyp='./data/hyp.custom.yaml', img_size=[512, 512], local_rank=-1, logdir='/opt/ml/output/data', multi_scale=False, name='', noautoanchor=False, nosave=False, notest=False, rect=False, resume=False, single_cls=False, sync_bn=False, total_batch_size=8, weights='weights/yolov4-tiny.weights', world_size=1)\u001b[0m\n",
      "\u001b[34mStart Tensorboard with \"tensorboard --logdir /opt/ml/output/data\", view at http://localhost:6006/\u001b[0m\n",
      "\u001b[34mHyperparameters {'anchor_t': 4.0, 'cls': 0.5, 'cls_pw': 1.0, 'degrees': 0.0, 'fl_gamma': 0.0, 'fliplr': 0.5, 'flipud': 0.0, 'giou': 0.05, 'hsv_h': 0.015, 'hsv_s': 0.7, 'hsv_v': 0.4, 'iou_t': 0.2, 'lr0': 0.0001, 'mixup': 0.0, 'momentum': 0.937, 'obj': 1.0, 'obj_pw': 1.0, 'perspective': 0.0, 'scale': 0.5, 'shear': 0.0, 'translate': 0.0, 'weight_decay': 0.0005}\u001b[0m\n",
      "\u001b[34mModel Summary: 61 layers, 6.05661e+06 parameters, 6.05661e+06 gradients\u001b[0m\n",
      "\u001b[34mOptimizer groups: 21 .bias, 21 conv.weight, 19 other\u001b[0m\n",
      "\u001b[34mImage sizes 512 train, 512 test\u001b[0m\n",
      "\u001b[34mUsing 4 dataloader workers\u001b[0m\n",
      "\u001b[34mStarting training for 20 epochs...\u001b[0m\n",
      "\u001b[34m     Epoch   gpu_mem      GIoU       obj       cls     total   targets  img_size\u001b[0m\n",
      "\u001b[34m                 all          43           0           0           0           0           0\n",
      "     Epoch   gpu_mem      GIoU       obj       cls     total   targets  img_size\u001b[0m\n",
      "\u001b[34m                 all          43           0           0           0           0           0\n",
      "     Epoch   gpu_mem      GIoU       obj       cls     total   targets  img_size\u001b[0m\n",
      "\u001b[34m                 all          43           0           0           0           0           0\u001b[0m\n",
      "\u001b[34m     Epoch   gpu_mem      GIoU       obj       cls     total   targets  img_size\u001b[0m\n",
      "\u001b[34m                 all          43           0           0           0           0           0\u001b[0m\n",
      "\u001b[34m     Epoch   gpu_mem      GIoU       obj       cls     total   targets  img_size\u001b[0m\n",
      "\u001b[34m                 all          43           0           0           0           0           0\u001b[0m\n",
      "\u001b[34m     Epoch   gpu_mem      GIoU       obj       cls     total   targets  img_size\u001b[0m\n",
      "\u001b[34m                 all          43           0           0           0           0           0\u001b[0m\n",
      "\u001b[34m     Epoch   gpu_mem      GIoU       obj       cls     total   targets  img_size\u001b[0m\n",
      "\u001b[34m                 all          43           0           0           0           0           0\u001b[0m\n",
      "\u001b[34m     Epoch   gpu_mem      GIoU       obj       cls     total   targets  img_size\u001b[0m\n",
      "\u001b[34m                 all          43           0           0           0           0           0\n",
      "     Epoch   gpu_mem      GIoU       obj       cls     total   targets  img_size\u001b[0m\n",
      "\u001b[34m                 all          43           0           0           0           0           0\n",
      "     Epoch   gpu_mem      GIoU       obj       cls     total   targets  img_size\u001b[0m\n",
      "\u001b[34m                 all          43           0           0           0           0           0\n",
      "     Epoch   gpu_mem      GIoU       obj       cls     total   targets  img_size\u001b[0m\n",
      "\u001b[34m                 all          43           0           0           0           0           0\n",
      "     Epoch   gpu_mem      GIoU       obj       cls     total   targets  img_size\u001b[0m\n",
      "\u001b[34m                 all          43           0           0           0           0           0\n",
      "     Epoch   gpu_mem      GIoU       obj       cls     total   targets  img_size\u001b[0m\n",
      "\u001b[34m                 all          43           0           0           0           0           0\u001b[0m\n",
      "\u001b[34m     Epoch   gpu_mem      GIoU       obj       cls     total   targets  img_size\u001b[0m\n",
      "\u001b[34m                 all          43           0           0           0           0           0\u001b[0m\n",
      "\u001b[34m     Epoch   gpu_mem      GIoU       obj       cls     total   targets  img_size\u001b[0m\n",
      "\u001b[34m                 all          43           0           0           0           0           0\n",
      "     Epoch   gpu_mem      GIoU       obj       cls     total   targets  img_size\u001b[0m\n",
      "\u001b[34m                 all          43           0           0           0           0           0\n",
      "     Epoch   gpu_mem      GIoU       obj       cls     total   targets  img_size\u001b[0m\n",
      "\u001b[34m                 all          43           0           0           0           0           0\n",
      "     Epoch   gpu_mem      GIoU       obj       cls     total   targets  img_size\u001b[0m\n",
      "\u001b[34m                 all          43           0           0           0           0           0\n",
      "     Epoch   gpu_mem      GIoU       obj       cls     total   targets  img_size\u001b[0m\n",
      "\u001b[34m                 all          43           0           0           0           0           0\u001b[0m\n",
      "\u001b[34m     Epoch   gpu_mem      GIoU       obj       cls     total   targets  img_size\u001b[0m\n",
      "\u001b[34m                 all          43           0           0           0           0           0\u001b[0m\n",
      "\u001b[34mOptimizer stripped from /opt/ml/output/data/exp0/weights/last.pt, 24.3MB\u001b[0m\n",
      "\u001b[34mOptimizer stripped from /opt/ml/output/data/exp0/weights/best.pt, 24.3MB\u001b[0m\n",
      "\u001b[34m20 epochs completed in 0.022 hours.\u001b[0m\n",
      "\u001b[34mModel Summary: 61 layers, 6.05661e+06 parameters, 6.05661e+06 gradients\u001b[0m\n",
      "\u001b[34mWARNING: Running pip as root will break packages and permissions. You should install packages reliably by using venv: https://pip.pypa.io/warnings/venv\u001b[0m\n",
      "\u001b[34m#015Scanning images:   0%|          | 0/43 [00:00<?, ?it/s]#015Scanning images: 100%|██████████| 43/43 [00:00<00:00, 2472.24it/s]\u001b[0m\n",
      "\u001b[34m#015  0%|          | 0/43 [00:00<?, ?it/s]#015Scanning labels /opt/ml/input/data/train/labels.cache (43 found, 0 missing, 0 empty, 0 duplicate, for 43 images): 100%|██████████| 43/43 [00:00<00:00, 4999.03it/s]\u001b[0m\n",
      "\u001b[34m#015Scanning images:   0%|          | 0/43 [00:00<?, ?it/s]#015Scanning images: 100%|██████████| 43/43 [00:00<00:00, 3986.72it/s]\u001b[0m\n",
      "\u001b[34m#015  0%|          | 0/43 [00:00<?, ?it/s]#015Scanning labels /opt/ml/input/data/validation/labels.cache (43 found, 0 missing, 0 empty, 0 duplicate, for 43 images): 100%|██████████| 43/43 [00:00<00:00, 9062.61it/s]\u001b[0m\n",
      "\u001b[34m#015  0%|          | 0/6 [00:00<?, ?it/s]#015      0/19     2.58G    0.1255    0.2403  0.002465    0.3683       192       512:   0%|          | 0/6 [00:15<?, ?it/s]#015      0/19     2.58G    0.1255    0.2403  0.002465    0.3683       192       512:  17%|█▋        | 1/6 [00:16<01:20, 16.17s/it]#015      0/19     2.59G    0.1261     0.204  0.002474    0.3326       121       512:  17%|█▋        | 1/6 [00:16<01:20, 16.17s/it]#015      0/19     2.59G    0.1261     0.204  0.002474    0.3326       121       512:  33%|███▎      | 2/6 [00:16<00:46, 11.55s/it]#015      0/19     2.59G    0.1248    0.2184  0.002469    0.3456       113       512:  33%|███▎      | 2/6 [00:17<00:46, 11.55s/it]#015      0/19     2.59G    0.1248    0.2184  0.002469    0.3456       113       512:  50%|█████     | 3/6 [00:17<00:24,  8.26s/it]#015      0/19     2.59G    0.1236    0.2422  0.002473    0.3682       145       512:  50%|█████     | 3/6 [00:17<00:24,  8.26s/it]#015      0/19     2.59G    0.1236    0.2422  0.002473    0.3682       145       512:  67%|██████▋   | 4/6 [00:17<00:11,  5.88s/it]#015      0/19     2.59G    0.1228    0.2676  0.002475    0.3928       161       512:  67%|██████▋   | 4/6 [00:18<00:11,  5.88s/it]#015      0/19     2.59G    0.1228    0.2676  0.002475    0.3928       161       512:  83%|████████▎ | 5/6 [00:18<00:04,  4.18s/it]#015      0/19     2.55G    0.1213    0.2509  0.002476    0.3746         9       512:  83%|████████▎ | 5/6 [00:22<00:04,  4.18s/it]#015      0/19     2.55G    0.1213    0.2509  0.002476    0.3746         9       512: 100%|██████████| 6/6 [00:22<00:00,  4.23s/it]#015      0/19     2.55G    0.1213    0.2509  0.002476    0.3746         9       512: 100%|██████████| 6/6 [00:22<00:00,  3.74s/it]\u001b[0m\n",
      "\u001b[34m#015               Class      Images     Targets           P           R      mAP@.5  mAP@.5:.95:   0%|          | 0/6 [00:00<?, ?it/s]#015               Class      Images     Targets           P           R      mAP@.5  mAP@.5:.95:  17%|█▋        | 1/6 [00:00<00:02,  2.21it/s]#015               Class      Images     Targets           P           R      mAP@.5  mAP@.5:.95:  50%|█████     | 3/6 [00:00<00:01,  2.93it/s]#015               Class      Images     Targets           P           R      mAP@.5  mAP@.5:.95:  83%|████████▎ | 5/6 [00:00<00:00,  3.82it/s]#015               Class      Images     Targets           P           R      mAP@.5  mAP@.5:.95: 100%|██████████| 6/6 [00:00<00:00,  6.95it/s]\u001b[0m\n",
      "\u001b[34m#015  0%|          | 0/6 [00:00<?, ?it/s]#015      1/19     2.55G    0.1212    0.1748  0.002439    0.2985       133       512:   0%|          | 0/6 [00:00<?, ?it/s]#015      1/19     2.55G    0.1212    0.1748  0.002439    0.2985       133       512:  17%|█▋        | 1/6 [00:00<00:03,  1.33it/s]#015      1/19     2.55G    0.1216    0.1747  0.002462    0.2987       108       512:  17%|█▋        | 1/6 [00:00<00:03,  1.33it/s]#015      1/19     2.55G    0.1216    0.1747  0.002462    0.2987       108       512:  33%|███▎      | 2/6 [00:00<00:02,  1.69it/s]#015      1/19     2.55G    0.1224    0.1744  0.002465    0.2993       159       512:  33%|███▎      | 2/6 [00:01<00:02,  1.69it/s]#015      1/19     2.55G    0.1224    0.1744  0.002465    0.2993       159       512:  50%|█████     | 3/6 [00:01<00:01,  2.09it/s]#015      1/19     2.55G     0.121    0.1769  0.002467    0.3004        67       512:  50%|█████     | 3/6 [00:01<00:01,  2.09it/s]#015      1/19     2.55G     0.121    0.1769  0.002467    0.3004        67       512:  67%|██████▋   | 4/6 [00:01<00:00,  2.52it/s]#015      1/19     2.55G      0.12    0.1956  0.002472    0.3181        64       512:  67%|██████▋   | 4/6 [00:01<00:00,  2.52it/s]#015      1/19     2.55G      0.12    0.1956  0.002472    0.3181        64       512:  83%|████████▎ | 5/6 [00:01<00:00,  2.93it/s]#015      1/19     2.56G    0.1192    0.2133  0.002476     0.335        50       512:  83%|████████▎ | 5/6 [00:01<00:00,  2.93it/s]#015      1/19     2.56G    0.1192    0.2133  0.002476     0.335        50       512: 100%|██████████| 6/6 [00:01<00:00,  3.60it/s]#015      1/19     2.56G    0.1192    0.2133  0.002476     0.335        50       512: 100%|██████████| 6/6 [00:01<00:00,  3.40it/s]\u001b[0m\n",
      "\u001b[34m#015               Class      Images     Targets           P           R      mAP@.5  mAP@.5:.95:   0%|          | 0/6 [00:00<?, ?it/s]#015               Class      Images     Targets           P           R      mAP@.5  mAP@.5:.95:  17%|█▋        | 1/6 [00:00<00:01,  3.25it/s]#015               Class      Images     Targets           P           R      mAP@.5  mAP@.5:.95:  50%|█████     | 3/6 [00:00<00:00,  4.18it/s]#015               Class      Images     Targets           P           R      mAP@.5  mAP@.5:.95:  83%|████████▎ | 5/6 [00:00<00:00,  5.19it/s]#015               Class      Images     Targets           P           R      mAP@.5  mAP@.5:.95: 100%|██████████| 6/6 [00:00<00:00,  8.09it/s]\u001b[0m\n",
      "\u001b[34m#015  0%|          | 0/6 [00:00<?, ?it/s]#015      2/19     2.56G    0.1197    0.2617  0.002477    0.3838       224       512:   0%|          | 0/6 [00:00<?, ?it/s]#015      2/19     2.56G    0.1197    0.2617  0.002477    0.3838       224       512:  17%|█▋        | 1/6 [00:00<00:02,  1.67it/s]#015      2/19     2.56G     0.116    0.2678  0.002465    0.3862        54       512:  17%|█▋        | 1/6 [00:00<00:02,  1.67it/s]#015      2/19     2.56G     0.116    0.2678  0.002465    0.3862        54       512:  33%|███▎      | 2/6 [00:00<00:01,  2.06it/s]#015      2/19     2.56G    0.1161     0.296  0.002475    0.4145       187       512:  33%|███▎      | 2/6 [00:01<00:01,  2.06it/s]#015      2/19     2.56G    0.1161     0.296  0.002475    0.4145       187       512:  50%|█████     | 3/6 [00:01<00:01,  2.49it/s]#015      2/19     2.56G    0.1152     0.283   0.00248    0.4007        94       512:  50%|█████     | 3/6 [00:01<00:01,  2.49it/s]#015      2/19     2.56G    0.1152     0.283   0.00248    0.4007        94       512:  67%|██████▋   | 4/6 [00:01<00:00,  2.91it/s]#015      2/19     2.56G    0.1151     0.284  0.002475    0.4016        80       512:  67%|██████▋   | 4/6 [00:01<00:00,  2.91it/s]#015      2/19     2.56G    0.1151     0.284  0.002475    0.4016        80       512:  83%|████████▎ | 5/6 [00:01<00:00,  3.30it/s]#015      2/19     2.56G    0.1145     0.303  0.002474    0.4199        19       512:  83%|████████▎ | 5/6 [00:01<00:00,  3.30it/s]#015      2/19     2.56G    0.1145     0.303  0.002474    0.4199        19       512: 100%|██████████| 6/6 [00:01<00:00,  3.96it/s]#015      2/19     2.56G    0.1145     0.303  0.002474    0.4199        19       512: 100%|██████████| 6/6 [00:01<00:00,  3.71it/s]\u001b[0m\n",
      "\u001b[34m#015               Class      Images     Targets           P           R      mAP@.5  mAP@.5:.95:   0%|          | 0/6 [00:00<?, ?it/s]#015               Class      Images     Targets           P           R      mAP@.5  mAP@.5:.95:  17%|█▋        | 1/6 [00:00<00:01,  3.11it/s]#015               Class      Images     Targets           P           R      mAP@.5  mAP@.5:.95:  50%|█████     | 3/6 [00:00<00:00,  4.01it/s]#015               Class      Images     Targets           P           R      mAP@.5  mAP@.5:.95:  83%|████████▎ | 5/6 [00:00<00:00,  5.06it/s]#015               Class      Images     Targets           P           R      mAP@.5  mAP@.5:.95: 100%|██████████| 6/6 [00:00<00:00,  8.34it/s]\u001b[0m\n",
      "\u001b[34m#015  0%|          | 0/6 [00:00<?, ?it/s]#015      3/19     2.56G    0.1125    0.2896   0.00244    0.4046       144       512:   0%|          | 0/6 [00:00<?, ?it/s]#015      3/19     2.56G    0.1125    0.2896   0.00244    0.4046       144       512:  17%|█▋        | 1/6 [00:00<00:03,  1.60it/s]#015      3/19     2.56G    0.1125    0.2434  0.002463    0.3584        90       512:  17%|█▋        | 1/6 [00:00<00:03,  1.60it/s]#015      3/19     2.56G    0.1125    0.2434  0.002463    0.3584        90       512:  33%|███▎      | 2/6 [00:00<00:02,  1.99it/s]#015      3/19     2.56G    0.1122    0.2688  0.002461    0.3835       141       512:  33%|███▎      | 2/6 [00:01<00:02,  1.99it/s]#015      3/19     2.56G    0.1122    0.2688  0.002461    0.3835       141       512:  50%|█████     | 3/6 [00:01<00:01,  2.40it/s]#015      3/19     2.56G    0.1119    0.2959  0.002467    0.4103       131       512:  50%|█████     | 3/6 [00:01<00:01,  2.40it/s]#015      3/19     2.56G    0.1119    0.2959  0.002467    0.4103       131       512:  67%|██████▋   | 4/6 [00:01<00:00,  2.83it/s]#015      3/19     2.56G    0.1114    0.2736   0.00247    0.3875        34       512:  67%|██████▋   | 4/6 [00:01<00:00,  2.83it/s]#015      3/19     2.56G    0.1114    0.2736   0.00247    0.3875        34       512:  83%|████████▎ | 5/6 [00:01<00:00,  3.22it/s]#015      3/19     2.56G    0.1107    0.2967  0.002464    0.4098        45       512:  83%|████████▎ | 5/6 [00:01<00:00,  3.22it/s]#015      3/19     2.56G    0.1107    0.2967  0.002464    0.4098        45       512: 100%|██████████| 6/6 [00:01<00:00,  3.85it/s]#015      3/19     2.56G    0.1107    0.2967  0.002464    0.4098        45       512: 100%|██████████| 6/6 [00:01<00:00,  3.62it/s]\u001b[0m\n",
      "\u001b[34m#015               Class      Images     Targets           P           R      mAP@.5  mAP@.5:.95:   0%|          | 0/6 [00:00<?, ?it/s]#015               Class      Images     Targets           P           R      mAP@.5  mAP@.5:.95:  17%|█▋        | 1/6 [00:00<00:01,  2.64it/s]#015               Class      Images     Targets           P           R      mAP@.5  mAP@.5:.95:  50%|█████     | 3/6 [00:00<00:00,  3.44it/s]#015               Class      Images     Targets           P           R      mAP@.5  mAP@.5:.95:  83%|████████▎ | 5/6 [00:00<00:00,  4.40it/s]#015               Class      Images     Targets           P           R      mAP@.5  mAP@.5:.95: 100%|██████████| 6/6 [00:00<00:00,  7.54it/s]\u001b[0m\n",
      "\u001b[34m#015  0%|          | 0/6 [00:00<?, ?it/s]#015      4/19     2.56G    0.1118    0.2447  0.002493     0.359       148       512:   0%|          | 0/6 [00:00<?, ?it/s]#015      4/19     2.56G    0.1118    0.2447  0.002493     0.359       148       512:  17%|█▋        | 1/6 [00:00<00:03,  1.63it/s]#015      4/19     2.56G    0.1099    0.2143  0.002481    0.3266       128       512:  17%|█▋        | 1/6 [00:00<00:03,  1.63it/s]#015      4/19     2.56G    0.1099    0.2143  0.002481    0.3266       128       512:  33%|███▎      | 2/6 [00:00<00:01,  2.01it/s]#015      4/19     2.56G    0.1099    0.2165  0.002475    0.3288        72       512:  33%|███▎      | 2/6 [00:01<00:01,  2.01it/s]#015      4/19     2.56G    0.1099    0.2165  0.002475    0.3288        72       512:  50%|█████     | 3/6 [00:01<00:01,  2.42it/s]#015      4/19     2.56G    0.1091     0.269  0.002475    0.3806       107       512:  50%|█████     | 3/6 [00:01<00:01,  2.42it/s]#015      4/19     2.56G    0.1091     0.269  0.002475    0.3806       107       512:  67%|██████▋   | 4/6 [00:01<00:00,  2.84it/s]#015      4/19     2.56G    0.1088     0.246  0.002473    0.3573        42       512:  67%|██████▋   | 4/6 [00:01<00:00,  2.84it/s]#015      4/19     2.56G    0.1088     0.246  0.002473    0.3573        42       512:  83%|████████▎ | 5/6 [00:01<00:00,  3.21it/s]#015      4/19     2.56G    0.1077    0.2946  0.002472    0.4048        29       512:  83%|████████▎ | 5/6 [00:01<00:00,  3.21it/s]#015      4/19     2.56G    0.1077    0.2946  0.002472    0.4048        29       512: 100%|██████████| 6/6 [00:01<00:00,  3.82it/s]#015      4/19     2.56G    0.1077    0.2946  0.002472    0.4048        29       512: 100%|██████████| 6/6 [00:01<00:00,  3.54it/s]\u001b[0m\n",
      "\u001b[34m#015               Class      Images     Targets           P           R      mAP@.5  mAP@.5:.95:   0%|          | 0/6 [00:00<?, ?it/s]#015               Class      Images     Targets           P           R      mAP@.5  mAP@.5:.95:  17%|█▋        | 1/6 [00:00<00:01,  2.94it/s]#015               Class      Images     Targets           P           R      mAP@.5  mAP@.5:.95:  50%|█████     | 3/6 [00:00<00:00,  3.80it/s]#015               Class      Images     Targets           P           R      mAP@.5  mAP@.5:.95:  83%|████████▎ | 5/6 [00:00<00:00,  4.80it/s]#015               Class      Images     Targets           P           R      mAP@.5  mAP@.5:.95: 100%|██████████| 6/6 [00:00<00:00,  7.95it/s]\u001b[0m\n",
      "\u001b[34m2022-03-18 17:17:13,372 sagemaker-training-toolkit INFO     Reporting training SUCCESS\u001b[0m\n",
      "\u001b[34m#015  0%|          | 0/6 [00:00<?, ?it/s]#015      5/19     2.56G    0.1158     0.256  0.002463    0.3743       163       512:   0%|          | 0/6 [00:00<?, ?it/s]#015      5/19     2.56G    0.1158     0.256  0.002463    0.3743       163       512:  17%|█▋        | 1/6 [00:00<00:03,  1.53it/s]#015      5/19     2.56G    0.1128    0.2472   0.00247    0.3625       113       512:  17%|█▋        | 1/6 [00:00<00:03,  1.53it/s]#015      5/19     2.56G    0.1128    0.2472   0.00247    0.3625       113       512:  33%|███▎      | 2/6 [00:00<00:02,  1.91it/s]#015      5/19     2.56G      0.11    0.2164  0.002462    0.3288        78       512:  33%|███▎      | 2/6 [00:01<00:02,  1.91it/s]#015      5/19     2.56G      0.11    0.2164  0.002462    0.3288        78       512:  50%|█████     | 3/6 [00:01<00:01,  2.34it/s]#015      5/19     2.56G    0.1096    0.2534  0.002464    0.3654       119       512:  50%|█████     | 3/6 [00:01<00:01,  2.34it/s]#015      5/19     2.56G    0.1096    0.2534  0.002464    0.3654       119       512:  67%|██████▋   | 4/6 [00:01<00:00,  2.75it/s]#015      5/19     2.56G    0.1079    0.2641  0.002463    0.3745        63       512:  67%|██████▋   | 4/6 [00:01<00:00,  2.75it/s]#015      5/19     2.56G    0.1079    0.2641  0.002463    0.3745        63       512:  83%|████████▎ | 5/6 [00:01<00:00,  3.16it/s]#015      5/19     2.56G    0.1078    0.2695  0.002467    0.3798        28       512:  83%|████████▎ | 5/6 [00:01<00:00,  3.16it/s]#015      5/19     2.56G    0.1078    0.2695  0.002467    0.3798        28       512: 100%|██████████| 6/6 [00:01<00:00,  3.79it/s]#015      5/19     2.56G    0.1078    0.2695  0.002467    0.3798        28       512: 100%|██████████| 6/6 [00:01<00:00,  3.59it/s]\u001b[0m\n",
      "\u001b[34m#015               Class      Images     Targets           P           R      mAP@.5  mAP@.5:.95:   0%|          | 0/6 [00:00<?, ?it/s]#015               Class      Images     Targets           P           R      mAP@.5  mAP@.5:.95:  17%|█▋        | 1/6 [00:00<00:01,  3.16it/s]#015               Class      Images     Targets           P           R      mAP@.5  mAP@.5:.95:  50%|█████     | 3/6 [00:00<00:00,  4.03it/s]#015               Class      Images     Targets           P           R      mAP@.5  mAP@.5:.95:  67%|██████▋   | 4/6 [00:00<00:00,  4.71it/s]#015               Class      Images     Targets           P           R      mAP@.5  mAP@.5:.95:  83%|████████▎ | 5/6 [00:00<00:00,  5.58it/s]#015               Class      Images     Targets           P           R      mAP@.5  mAP@.5:.95: 100%|██████████| 6/6 [00:00<00:00,  7.41it/s]\u001b[0m\n",
      "\u001b[34m#015  0%|          | 0/6 [00:00<?, ?it/s]#015      6/19     2.56G    0.1143    0.2678  0.002475    0.3846       186       512:   0%|          | 0/6 [00:00<?, ?it/s]#015      6/19     2.56G    0.1143    0.2678  0.002475    0.3846       186       512:  17%|█▋        | 1/6 [00:00<00:03,  1.53it/s]#015      6/19     2.56G     0.113    0.2546  0.002476      0.37        62       512:  17%|█▋        | 1/6 [00:00<00:03,  1.53it/s]#015      6/19     2.56G     0.113    0.2546  0.002476      0.37        62       512:  33%|███▎      | 2/6 [00:00<00:02,  1.92it/s]#015      6/19     2.56G    0.1103    0.2318  0.002464    0.3445        97       512:  33%|███▎      | 2/6 [00:01<00:02,  1.92it/s]#015      6/19     2.56G    0.1103    0.2318  0.002464    0.3445        97       512:  50%|█████     | 3/6 [00:01<00:01,  2.35it/s]#015      6/19     2.56G     0.109     0.291  0.002463    0.4024       108       512:  50%|█████     | 3/6 [00:01<00:01,  2.35it/s]#015      6/19     2.56G     0.109     0.291  0.002463    0.4024       108       512:  67%|██████▋   | 4/6 [00:01<00:00,  2.76it/s]#015      6/19     2.56G     0.107    0.2889  0.002468    0.3984        46       512:  67%|██████▋   | 4/6 [00:01<00:00,  2.76it/s]#015      6/19     2.56G     0.107    0.2889  0.002468    0.3984        46       512:  83%|████████▎ | 5/6 [00:01<00:00,  3.15it/s]#015      6/19     2.56G    0.1066    0.3291  0.002468    0.4382        33       512:  83%|████████▎ | 5/6 [00:01<00:00,  3.15it/s]#015      6/19     2.56G    0.1066    0.3291  0.002468    0.4382        33       512: 100%|██████████| 6/6 [00:01<00:00,  3.79it/s]#015      6/19     2.56G    0.1066    0.3291  0.002468    0.4382        33       512: 100%|██████████| 6/6 [00:01<00:00,  3.57it/s]\u001b[0m\n",
      "\u001b[34m#015               Class      Images     Targets           P           R      mAP@.5  mAP@.5:.95:   0%|          | 0/6 [00:00<?, ?it/s]#015               Class      Images     Targets           P           R      mAP@.5  mAP@.5:.95:  17%|█▋        | 1/6 [00:00<00:01,  3.26it/s]#015               Class      Images     Targets           P           R      mAP@.5  mAP@.5:.95:  50%|█████     | 3/6 [00:00<00:00,  4.20it/s]#015               Class      Images     Targets           P           R      mAP@.5  mAP@.5:.95:  83%|████████▎ | 5/6 [00:00<00:00,  5.27it/s]#015               Class      Images     Targets           P           R      mAP@.5  mAP@.5:.95: 100%|██████████| 6/6 [00:00<00:00,  8.50it/s]\u001b[0m\n",
      "\u001b[34m#015  0%|          | 0/6 [00:00<?, ?it/s]#015      7/19     2.56G    0.1117    0.2775  0.002473    0.3917       154       512:   0%|          | 0/6 [00:00<?, ?it/s]#015      7/19     2.56G    0.1117    0.2775  0.002473    0.3917       154       512:  17%|█▋        | 1/6 [00:00<00:03,  1.53it/s]#015      7/19     2.56G    0.1081    0.2381  0.002452    0.3487       112       512:  17%|█▋        | 1/6 [00:00<00:03,  1.53it/s]#015      7/19     2.56G    0.1081    0.2381  0.002452    0.3487       112       512:  33%|███▎      | 2/6 [00:00<00:02,  1.93it/s]#015      7/19     2.56G    0.1095    0.2535  0.002452    0.3654       163       512:  33%|███▎      | 2/6 [00:01<00:02,  1.93it/s]#015      7/19     2.56G    0.1095    0.2535  0.002452    0.3654       163       512:  50%|█████     | 3/6 [00:01<00:01,  2.36it/s]#015      7/19     2.56G    0.1078    0.2792  0.002461    0.3894        95       512:  50%|█████     | 3/6 [00:01<00:01,  2.36it/s]#015      7/19     2.56G    0.1078    0.2792  0.002461    0.3894        95       512:  67%|██████▋   | 4/6 [00:01<00:00,  2.76it/s]#015      7/19     2.56G    0.1066    0.3021  0.002465    0.4111        96       512:  67%|██████▋   | 4/6 [00:01<00:00,  2.76it/s]#015      7/19     2.56G    0.1066    0.3021  0.002465    0.4111        96       512:  83%|████████▎ | 5/6 [00:01<00:00,  3.15it/s]#015      7/19     2.56G    0.1051    0.3058  0.002461    0.4134        21       512:  83%|████████▎ | 5/6 [00:01<00:00,  3.15it/s]#015      7/19     2.56G    0.1051    0.3058  0.002461    0.4134        21       512: 100%|██████████| 6/6 [00:01<00:00,  3.81it/s]#015      7/19     2.56G    0.1051    0.3058  0.002461    0.4134        21       512: 100%|██████████| 6/6 [00:01<00:00,  3.59it/s]\u001b[0m\n",
      "\u001b[34m#015               Class      Images     Targets           P           R      mAP@.5  mAP@.5:.95:   0%|          | 0/6 [00:00<?, ?it/s]#015               Class      Images     Targets           P           R      mAP@.5  mAP@.5:.95:  17%|█▋        | 1/6 [00:00<00:01,  3.15it/s]#015               Class      Images     Targets           P           R      mAP@.5  mAP@.5:.95:  50%|█████     | 3/6 [00:00<00:00,  4.08it/s]#015               Class      Images     Targets           P           R      mAP@.5  mAP@.5:.95:  83%|████████▎ | 5/6 [00:00<00:00,  5.12it/s]#015               Class      Images     Targets           P           R      mAP@.5  mAP@.5:.95: 100%|██████████| 6/6 [00:00<00:00,  8.41it/s]\u001b[0m\n",
      "\u001b[34m#015  0%|          | 0/6 [00:00<?, ?it/s]#015      8/19     2.56G    0.1077    0.2993  0.002457    0.4095       152       512:   0%|          | 0/6 [00:00<?, ?it/s]#015      8/19     2.56G    0.1077    0.2993  0.002457    0.4095       152       512:  17%|█▋        | 1/6 [00:00<00:03,  1.55it/s]#015      8/19     2.56G    0.1038    0.2752  0.002467    0.3815       102       512:  17%|█▋        | 1/6 [00:00<00:03,  1.55it/s]#015      8/19     2.56G    0.1038    0.2752  0.002467    0.3815       102       512:  33%|███▎      | 2/6 [00:00<00:02,  1.94it/s]#015      8/19     2.56G    0.1058     0.257  0.002471    0.3652       136       512:  33%|███▎      | 2/6 [00:01<00:02,  1.94it/s]#015      8/19     2.56G    0.1058     0.257  0.002471    0.3652       136       512:  50%|█████     | 3/6 [00:01<00:01,  2.35it/s]#015      8/19     2.56G    0.1045    0.2754   0.00247    0.3824        51       512:  50%|█████     | 3/6 [00:01<00:01,  2.35it/s]#015      8/19     2.56G    0.1045    0.2754   0.00247    0.3824        51       512:  67%|██████▋   | 4/6 [00:01<00:00,  2.77it/s]#015      8/19     2.56G     0.105    0.2937  0.002472    0.4012       100       512:  67%|██████▋   | 4/6 [00:01<00:00,  2.77it/s]#015      8/19     2.56G     0.105    0.2937  0.002472    0.4012       100       512:  83%|████████▎ | 5/6 [00:01<00:00,  3.18it/s]#015      8/19     2.56G    0.1049    0.3091  0.002472    0.4164        43       512:  83%|████████▎ | 5/6 [00:01<00:00,  3.18it/s]#015      8/19     2.56G    0.1049    0.3091  0.002472    0.4164        43       512: 100%|██████████| 6/6 [00:01<00:00,  3.81it/s]#015      8/19     2.56G    0.1049    0.3091  0.002472    0.4164        43       512: 100%|██████████| 6/6 [00:01<00:00,  3.57it/s]\u001b[0m\n",
      "\u001b[34m#015               Class      Images     Targets           P           R      mAP@.5  mAP@.5:.95:   0%|          | 0/6 [00:00<?, ?it/s]#015               Class      Images     Targets           P           R      mAP@.5  mAP@.5:.95:  17%|█▋        | 1/6 [00:00<00:01,  3.07it/s]#015               Class      Images     Targets           P           R      mAP@.5  mAP@.5:.95:  50%|█████     | 3/6 [00:00<00:00,  3.98it/s]#015               Class      Images     Targets           P           R      mAP@.5  mAP@.5:.95:  83%|████████▎ | 5/6 [00:00<00:00,  5.01it/s]#015               Class      Images     Targets           P           R      mAP@.5  mAP@.5:.95: 100%|██████████| 6/6 [00:00<00:00,  8.23it/s]\u001b[0m\n",
      "\u001b[34m#015  0%|          | 0/6 [00:00<?, ?it/s]#015      9/19     2.56G    0.1145    0.3204  0.002451    0.4373       222       512:   0%|          | 0/6 [00:00<?, ?it/s]#015      9/19     2.56G    0.1145    0.3204  0.002451    0.4373       222       512:  17%|█▋        | 1/6 [00:00<00:03,  1.36it/s]#015      9/19     2.56G    0.1088    0.2645   0.00246    0.3758       121       512:  17%|█▋        | 1/6 [00:00<00:03,  1.36it/s]#015      9/19     2.56G    0.1088    0.2645   0.00246    0.3758       121       512:  33%|███▎      | 2/6 [00:00<00:02,  1.73it/s]#015      9/19     2.56G    0.1074    0.2614  0.002447    0.3713        90       512:  33%|███▎      | 2/6 [00:01<00:02,  1.73it/s]#015      9/19     2.56G    0.1074    0.2614  0.002447    0.3713        90       512:  50%|█████     | 3/6 [00:01<00:01,  2.14it/s]#015      9/19     2.56G    0.1086    0.2548  0.002452    0.3658       135       512:  50%|█████     | 3/6 [00:01<00:01,  2.14it/s]#015      9/19     2.56G    0.1086    0.2548  0.002452    0.3658       135       512:  67%|██████▋   | 4/6 [00:01<00:00,  2.54it/s]#015      9/19     2.56G    0.1068    0.3052  0.002454    0.4145       161       512:  67%|██████▋   | 4/6 [00:01<00:00,  2.54it/s]#015      9/19     2.56G    0.1068    0.3052  0.002454    0.4145       161       512:  83%|████████▎ | 5/6 [00:01<00:00,  2.96it/s]#015      9/19     2.56G    0.1056    0.3416  0.002458    0.4496        37       512:  83%|████████▎ | 5/6 [00:01<00:00,  2.96it/s]#015      9/19     2.56G    0.1056    0.3416  0.002458    0.4496        37       512: 100%|██████████| 6/6 [00:01<00:00,  3.61it/s]#015      9/19     2.56G    0.1056    0.3416  0.002458    0.4496        37       512: 100%|██████████| 6/6 [00:01<00:00,  3.38it/s]\u001b[0m\n",
      "\u001b[34m#015               Class      Images     Targets           P           R      mAP@.5  mAP@.5:.95:   0%|          | 0/6 [00:00<?, ?it/s]#015               Class      Images     Targets           P           R      mAP@.5  mAP@.5:.95:  17%|█▋        | 1/6 [00:00<00:01,  3.09it/s]#015               Class      Images     Targets           P           R      mAP@.5  mAP@.5:.95:  50%|█████     | 3/6 [00:00<00:00,  3.99it/s]#015               Class      Images     Targets           P           R      mAP@.5  mAP@.5:.95:  83%|████████▎ | 5/6 [00:00<00:00,  5.03it/s]#015               Class      Images     Targets           P           R      mAP@.5  mAP@.5:.95: 100%|██████████| 6/6 [00:00<00:00,  8.30it/s]\u001b[0m\n",
      "\u001b[34m#015  0%|          | 0/6 [00:00<?, ?it/s]#015     10/19     2.56G    0.1117    0.2095  0.002463    0.3237       144       512:   0%|          | 0/6 [00:00<?, ?it/s]#015     10/19     2.56G    0.1117    0.2095  0.002463    0.3237       144       512:  17%|█▋        | 1/6 [00:00<00:03,  1.53it/s]#015     10/19     2.56G    0.1077    0.2616  0.002458    0.3718       127       512:  17%|█▋        | 1/6 [00:00<00:03,  1.53it/s]#015     10/19     2.56G    0.1077    0.2616  0.002458    0.3718       127       512:  33%|███▎      | 2/6 [00:00<00:02,  1.91it/s]#015     10/19     2.56G    0.1062    0.2719  0.002448    0.3805       106       512:  33%|███▎      | 2/6 [00:01<00:02,  1.91it/s]#015     10/19     2.56G    0.1062    0.2719  0.002448    0.3805       106       512:  50%|█████     | 3/6 [00:01<00:01,  2.34it/s]#015     10/19     2.56G    0.1054    0.2588  0.002453    0.3667        85       512:  50%|█████     | 3/6 [00:01<00:01,  2.34it/s]#015     10/19     2.56G    0.1054    0.2588  0.002453    0.3667        85       512:  67%|██████▋   | 4/6 [00:01<00:00,  2.77it/s]#015     10/19     2.56G    0.1045    0.2936  0.002454    0.4006       126       512:  67%|██████▋   | 4/6 [00:01<00:00,  2.77it/s]#015     10/19     2.56G    0.1045    0.2936  0.002454    0.4006       126       512:  83%|████████▎ | 5/6 [00:01<00:00,  3.16it/s]#015     10/19     2.56G    0.1012    0.2786  0.002455    0.3822         8       512:  83%|████████▎ | 5/6 [00:01<00:00,  3.16it/s]#015     10/19     2.56G    0.1012    0.2786  0.002455    0.3822         8       512: 100%|██████████| 6/6 [00:01<00:00,  3.84it/s]#015     10/19     2.56G    0.1012    0.2786  0.002455    0.3822         8       512: 100%|██████████| 6/6 [00:01<00:00,  3.61it/s]\u001b[0m\n",
      "\u001b[34m#015               Class      Images     Targets           P           R      mAP@.5  mAP@.5:.95:   0%|          | 0/6 [00:00<?, ?it/s]#015               Class      Images     Targets           P           R      mAP@.5  mAP@.5:.95:  17%|█▋        | 1/6 [00:00<00:01,  2.93it/s]#015               Class      Images     Targets           P           R      mAP@.5  mAP@.5:.95:  50%|█████     | 3/6 [00:00<00:00,  3.79it/s]#015               Class      Images     Targets           P           R      mAP@.5  mAP@.5:.95:  83%|████████▎ | 5/6 [00:00<00:00,  4.77it/s]#015               Class      Images     Targets           P           R      mAP@.5  mAP@.5:.95: 100%|██████████| 6/6 [00:00<00:00,  7.91it/s]\u001b[0m\n",
      "\u001b[34m#015  0%|          | 0/6 [00:00<?, ?it/s]#015     11/19     2.56G    0.1058    0.2837  0.002465    0.3919       244       512:   0%|          | 0/6 [00:00<?, ?it/s]#015     11/19     2.56G    0.1058    0.2837  0.002465    0.3919       244       512:  17%|█▋        | 1/6 [00:00<00:03,  1.52it/s]#015     11/19     2.56G    0.1078     0.299   0.00246    0.4093       146       512:  17%|█▋        | 1/6 [00:00<00:03,  1.52it/s]#015     11/19     2.56G    0.1078     0.299   0.00246    0.4093       146       512:  33%|███▎      | 2/6 [00:00<00:02,  1.90it/s]#015     11/19     2.56G     0.107    0.2976  0.002463     0.407       136       512:  33%|███▎      | 2/6 [00:01<00:02,  1.90it/s]#015     11/19     2.56G     0.107    0.2976  0.002463     0.407       136       512:  50%|█████     | 3/6 [00:01<00:01,  2.31it/s]#015     11/19     2.56G    0.1051     0.326  0.002467    0.4336        91       512:  50%|█████     | 3/6 [00:01<00:01,  2.31it/s]#015     11/19     2.56G    0.1051     0.326  0.002467    0.4336        91       512:  67%|██████▋   | 4/6 [00:01<00:00,  2.73it/s]#015     11/19     2.56G     0.105    0.3122  0.002471    0.4196       101       512:  67%|██████▋   | 4/6 [00:01<00:00,  2.73it/s]#015     11/19     2.56G     0.105    0.3122  0.002471    0.4196       101       512:  83%|████████▎ | 5/6 [00:01<00:00,  3.15it/s]#015     11/19     2.56G    0.1018    0.3339  0.002472    0.4382        16       512:  83%|████████▎ | 5/6 [00:01<00:00,  3.15it/s]#015     11/19     2.56G    0.1018    0.3339  0.002472    0.4382        16       512: 100%|██████████| 6/6 [00:01<00:00,  3.82it/s]#015     11/19     2.56G    0.1018    0.3339  0.002472    0.4382        16       512: 100%|██████████| 6/6 [00:01<00:00,  3.56it/s]\u001b[0m\n",
      "\u001b[34m#015               Class      Images     Targets           P           R      mAP@.5  mAP@.5:.95:   0%|          | 0/6 [00:00<?, ?it/s]#015               Class      Images     Targets           P           R      mAP@.5  mAP@.5:.95:  17%|█▋        | 1/6 [00:00<00:01,  2.99it/s]#015               Class      Images     Targets           P           R      mAP@.5  mAP@.5:.95:  50%|█████     | 3/6 [00:00<00:00,  3.87it/s]#015               Class      Images     Targets           P           R      mAP@.5  mAP@.5:.95:  83%|████████▎ | 5/6 [00:00<00:00,  4.86it/s]#015               Class      Images     Targets           P           R      mAP@.5  mAP@.5:.95: 100%|██████████| 6/6 [00:00<00:00,  7.97it/s]\u001b[0m\n",
      "\u001b[34m#015  0%|          | 0/6 [00:00<?, ?it/s]#015     12/19     2.56G    0.1082    0.2909  0.002442    0.4016       115       512:   0%|          | 0/6 [00:00<?, ?it/s]#015     12/19     2.56G    0.1082    0.2909  0.002442    0.4016       115       512:  17%|█▋        | 1/6 [00:00<00:03,  1.53it/s]#015     12/19     2.56G    0.1038    0.2718  0.002451     0.378       104       512:  17%|█▋        | 1/6 [00:00<00:03,  1.53it/s]#015     12/19     2.56G    0.1038    0.2718  0.002451     0.378       104       512:  33%|███▎      | 2/6 [00:00<00:02,  1.94it/s]#015     12/19     2.56G    0.1055    0.2867  0.002453    0.3947       128       512:  33%|███▎      | 2/6 [00:01<00:02,  1.94it/s]#015     12/19     2.56G    0.1055    0.2867  0.002453    0.3947       128       512:  50%|█████     | 3/6 [00:01<00:01,  2.36it/s]#015     12/19     2.56G    0.1038    0.3287  0.002451     0.435        97       512:  50%|█████     | 3/6 [00:01<00:01,  2.36it/s]#015     12/19     2.56G    0.1038    0.3287  0.002451     0.435        97       512:  67%|██████▋   | 4/6 [00:01<00:00,  2.82it/s]#015     12/19     2.56G    0.1039    0.3464  0.002451    0.4528       116       512:  67%|██████▋   | 4/6 [00:01<00:00,  2.82it/s]#015     12/19     2.56G    0.1039    0.3464  0.002451    0.4528       116       512:  83%|████████▎ | 5/6 [00:01<00:00,  3.21it/s]#015     12/19     2.56G    0.1034    0.3421   0.00245     0.448        20       512:  83%|████████▎ | 5/6 [00:01<00:00,  3.21it/s]#015     12/19     2.56G    0.1034    0.3421   0.00245     0.448        20       512: 100%|██████████| 6/6 [00:01<00:00,  3.93it/s]#015     12/19     2.56G    0.1034    0.3421   0.00245     0.448        20       512: 100%|██████████| 6/6 [00:01<00:00,  3.70it/s]\u001b[0m\n",
      "\u001b[34m#015               Class      Images     Targets           P           R      mAP@.5  mAP@.5:.95:   0%|          | 0/6 [00:00<?, ?it/s]#015               Class      Images     Targets           P           R      mAP@.5  mAP@.5:.95:  17%|█▋        | 1/6 [00:00<00:01,  3.17it/s]#015               Class      Images     Targets           P           R      mAP@.5  mAP@.5:.95:  50%|█████     | 3/6 [00:00<00:00,  4.06it/s]#015               Class      Images     Targets           P           R      mAP@.5  mAP@.5:.95:  83%|████████▎ | 5/6 [00:00<00:00,  5.11it/s]#015               Class      Images     Targets           P           R      mAP@.5  mAP@.5:.95: 100%|██████████| 6/6 [00:00<00:00,  8.28it/s]\u001b[0m\n",
      "\u001b[34m#015  0%|          | 0/6 [00:00<?, ?it/s]#015     13/19     2.56G    0.1091    0.3186   0.00244    0.4302       168       512:   0%|          | 0/6 [00:00<?, ?it/s]#015     13/19     2.56G    0.1091    0.3186   0.00244    0.4302       168       512:  17%|█▋        | 1/6 [00:00<00:03,  1.51it/s]#015     13/19     2.56G    0.1077    0.2736  0.002445    0.3838       136       512:  17%|█▋        | 1/6 [00:00<00:03,  1.51it/s]#015     13/19     2.56G    0.1077    0.2736  0.002445    0.3838       136       512:  33%|███▎      | 2/6 [00:00<00:02,  1.92it/s]#015     13/19     2.56G    0.1077    0.2808  0.002451     0.391        88       512:  33%|███▎      | 2/6 [00:01<00:02,  1.92it/s]#015     13/19     2.56G    0.1077    0.2808  0.002451     0.391        88       512:  50%|█████     | 3/6 [00:01<00:01,  2.33it/s]#015     13/19     2.56G    0.1069    0.2605  0.002449    0.3698        80       512:  50%|█████     | 3/6 [00:01<00:01,  2.33it/s]#015     13/19     2.56G    0.1069    0.2605  0.002449    0.3698        80       512:  67%|██████▋   | 4/6 [00:01<00:00,  2.80it/s]#015     13/19     2.56G    0.1041    0.2745  0.002449    0.3811       101       512:  67%|██████▋   | 4/6 [00:01<00:00,  2.80it/s]#015     13/19     2.56G    0.1041    0.2745  0.002449    0.3811       101       512:  83%|████████▎ | 5/6 [00:01<00:00,  3.18it/s]#015     13/19     2.56G    0.1019    0.3057  0.002452    0.4101        21       512:  83%|████████▎ | 5/6 [00:01<00:00,  3.18it/s]#015     13/19     2.56G    0.1019    0.3057  0.002452    0.4101        21       512: 100%|██████████| 6/6 [00:01<00:00,  3.90it/s]#015     13/19     2.56G    0.1019    0.3057  0.002452    0.4101        21       512: 100%|██████████| 6/6 [00:01<00:00,  3.66it/s]\u001b[0m\n",
      "\u001b[34m#015               Class      Images     Targets           P           R      mAP@.5  mAP@.5:.95:   0%|          | 0/6 [00:00<?, ?it/s]#015               Class      Images     Targets           P           R      mAP@.5  mAP@.5:.95:  17%|█▋        | 1/6 [00:00<00:01,  3.07it/s]#015               Class      Images     Targets           P           R      mAP@.5  mAP@.5:.95:  50%|█████     | 3/6 [00:00<00:00,  3.96it/s]#015               Class      Images     Targets           P           R      mAP@.5  mAP@.5:.95:  83%|████████▎ | 5/6 [00:00<00:00,  5.00it/s]#015               Class      Images     Targets           P           R      mAP@.5  mAP@.5:.95: 100%|██████████| 6/6 [00:00<00:00,  8.23it/s]\u001b[0m\n",
      "\u001b[34m#015  0%|          | 0/6 [00:00<?, ?it/s]#015     14/19     2.56G    0.1094    0.1947  0.002441    0.3065       146       512:   0%|          | 0/6 [00:00<?, ?it/s]#015     14/19     2.56G    0.1094    0.1947  0.002441    0.3065       146       512:  17%|█▋        | 1/6 [00:00<00:03,  1.55it/s]#015     14/19     2.56G    0.1067    0.2102  0.002459    0.3193       138       512:  17%|█▋        | 1/6 [00:00<00:03,  1.55it/s]#015     14/19     2.56G    0.1067    0.2102  0.002459    0.3193       138       512:  33%|███▎      | 2/6 [00:00<00:02,  1.96it/s]#015     14/19     2.56G    0.1067    0.2347  0.002447    0.3439       115       512:  33%|███▎      | 2/6 [00:01<00:02,  1.96it/s]#015     14/19     2.56G    0.1067    0.2347  0.002447    0.3439       115       512:  50%|█████     | 3/6 [00:01<00:01,  2.38it/s]#015     14/19     2.56G    0.1051    0.2348  0.002441    0.3423        45       512:  50%|█████     | 3/6 [00:01<00:01,  2.38it/s]#015     14/19     2.56G    0.1051    0.2348  0.002441    0.3423        45       512:  67%|██████▋   | 4/6 [00:01<00:00,  2.82it/s]#015     14/19     2.56G    0.1044    0.2481  0.002443    0.3549        67       512:  67%|██████▋   | 4/6 [00:01<00:00,  2.82it/s]#015     14/19     2.56G    0.1044    0.2481  0.002443    0.3549        67       512:  83%|████████▎ | 5/6 [00:01<00:00,  3.21it/s]#015     14/19     2.56G     0.105    0.2215  0.002434    0.3289         4       512:  83%|████████▎ | 5/6 [00:01<00:00,  3.21it/s]#015     14/19     2.56G     0.105    0.2215  0.002434    0.3289         4       512: 100%|██████████| 6/6 [00:01<00:00,  3.95it/s]#015     14/19     2.56G     0.105    0.2215  0.002434    0.3289         4       512: 100%|██████████| 6/6 [00:01<00:00,  3.69it/s]\u001b[0m\n",
      "\u001b[34m#015               Class      Images     Targets           P           R      mAP@.5  mAP@.5:.95:   0%|          | 0/6 [00:00<?, ?it/s]#015               Class      Images     Targets           P           R      mAP@.5  mAP@.5:.95:  17%|█▋        | 1/6 [00:00<00:01,  3.08it/s]#015               Class      Images     Targets           P           R      mAP@.5  mAP@.5:.95:  50%|█████     | 3/6 [00:00<00:00,  3.98it/s]#015               Class      Images     Targets           P           R      mAP@.5  mAP@.5:.95:  83%|████████▎ | 5/6 [00:00<00:00,  5.02it/s]#015               Class      Images     Targets           P           R      mAP@.5  mAP@.5:.95: 100%|██████████| 6/6 [00:00<00:00,  8.20it/s]\u001b[0m\n",
      "\u001b[34m#015  0%|          | 0/6 [00:00<?, ?it/s]#015     15/19     2.56G    0.1135     0.237  0.002471     0.353       124       512:   0%|          | 0/6 [00:00<?, ?it/s]#015     15/19     2.56G    0.1135     0.237  0.002471     0.353       124       512:  17%|█▋        | 1/6 [00:00<00:03,  1.59it/s]#015     15/19     2.56G    0.1092     0.266  0.002463    0.3777        86       512:  17%|█▋        | 1/6 [00:00<00:03,  1.59it/s]#015     15/19     2.56G    0.1092     0.266  0.002463    0.3777        86       512:  33%|███▎      | 2/6 [00:00<00:01,  2.01it/s]#015     15/19     2.56G    0.1091    0.2734  0.002457    0.3849       153       512:  33%|███▎      | 2/6 [00:01<00:01,  2.01it/s]#015     15/19     2.56G    0.1091    0.2734  0.002457    0.3849       153       512:  50%|█████     | 3/6 [00:01<00:01,  2.42it/s]#015     15/19     2.56G    0.1066    0.2908  0.002452    0.3998        75       512:  50%|█████     | 3/6 [00:01<00:01,  2.42it/s]#015     15/19     2.56G    0.1066    0.2908  0.002452    0.3998        75       512:  67%|██████▋   | 4/6 [00:01<00:00,  2.89it/s]#015     15/19     2.56G    0.1059    0.3072  0.002452    0.4155       117       512:  67%|██████▋   | 4/6 [00:01<00:00,  2.89it/s]#015     15/19     2.56G    0.1059    0.3072  0.002452    0.4155       117       512:  83%|████████▎ | 5/6 [00:01<00:00,  3.28it/s]#015     15/19     2.56G    0.1036    0.2871  0.002458    0.3932         6       512:  83%|████████▎ | 5/6 [00:01<00:00,  3.28it/s]#015     15/19     2.56G    0.1036    0.2871  0.002458    0.3932         6       512: 100%|██████████| 6/6 [00:01<00:00,  4.01it/s]#015     15/19     2.56G    0.1036    0.2871  0.002458    0.3932         6       512: 100%|██████████| 6/6 [00:01<00:00,  3.74it/s]\u001b[0m\n",
      "\u001b[34m#015               Class      Images     Targets           P           R      mAP@.5  mAP@.5:.95:   0%|          | 0/6 [00:00<?, ?it/s]#015               Class      Images     Targets           P           R      mAP@.5  mAP@.5:.95:  17%|█▋        | 1/6 [00:00<00:01,  2.91it/s]#015               Class      Images     Targets           P           R      mAP@.5  mAP@.5:.95:  50%|█████     | 3/6 [00:00<00:00,  3.77it/s]#015               Class      Images     Targets           P           R      mAP@.5  mAP@.5:.95:  83%|████████▎ | 5/6 [00:00<00:00,  4.76it/s]#015               Class      Images     Targets           P           R      mAP@.5  mAP@.5:.95: 100%|██████████| 6/6 [00:00<00:00,  7.92it/s]\u001b[0m\n",
      "\u001b[34m#015  0%|          | 0/6 [00:00<?, ?it/s]#015     16/19     2.56G    0.1102     0.326  0.002438    0.4386       131       512:   0%|          | 0/6 [00:00<?, ?it/s]#015     16/19     2.56G    0.1102     0.326  0.002438    0.4386       131       512:  17%|█▋        | 1/6 [00:00<00:03,  1.50it/s]#015     16/19     2.56G    0.1084    0.2933  0.002438    0.4042       114       512:  17%|█▋        | 1/6 [00:00<00:03,  1.50it/s]#015     16/19     2.56G    0.1084    0.2933  0.002438    0.4042       114       512:  33%|███▎      | 2/6 [00:00<00:02,  1.90it/s]#015     16/19     2.56G    0.1091    0.2673  0.002431    0.3789       118       512:  33%|███▎      | 2/6 [00:01<00:02,  1.90it/s]#015     16/19     2.56G    0.1091    0.2673  0.002431    0.3789       118       512:  50%|█████     | 3/6 [00:01<00:01,  2.33it/s]#015     16/19     2.56G    0.1056    0.2719  0.002431    0.3799        70       512:  50%|█████     | 3/6 [00:01<00:01,  2.33it/s]#015     16/19     2.56G    0.1056    0.2719  0.002431    0.3799        70       512:  67%|██████▋   | 4/6 [00:01<00:00,  2.78it/s]#015     16/19     2.56G    0.1042    0.3094   0.00244    0.4161       115       512:  67%|██████▋   | 4/6 [00:01<00:00,  2.78it/s]#015     16/19     2.56G    0.1042    0.3094   0.00244    0.4161       115       512:  83%|████████▎ | 5/6 [00:01<00:00,  3.18it/s]#015     16/19     2.56G    0.1036    0.3223  0.002436    0.4283        28       512:  83%|████████▎ | 5/6 [00:01<00:00,  3.18it/s]#015     16/19     2.56G    0.1036    0.3223  0.002436    0.4283        28       512: 100%|██████████| 6/6 [00:01<00:00,  3.88it/s]#015     16/19     2.56G    0.1036    0.3223  0.002436    0.4283        28       512: 100%|██████████| 6/6 [00:01<00:00,  3.63it/s]\u001b[0m\n",
      "\u001b[34m#015               Class      Images     Targets           P           R      mAP@.5  mAP@.5:.95:   0%|          | 0/6 [00:00<?, ?it/s]#015               Class      Images     Targets           P           R      mAP@.5  mAP@.5:.95:  17%|█▋        | 1/6 [00:00<00:01,  2.87it/s]#015               Class      Images     Targets           P           R      mAP@.5  mAP@.5:.95:  50%|█████     | 3/6 [00:00<00:00,  3.74it/s]#015               Class      Images     Targets           P           R      mAP@.5  mAP@.5:.95:  83%|████████▎ | 5/6 [00:00<00:00,  4.72it/s]#015               Class      Images     Targets           P           R      mAP@.5  mAP@.5:.95: 100%|██████████| 6/6 [00:00<00:00,  7.83it/s]\u001b[0m\n",
      "\u001b[34m#015  0%|          | 0/6 [00:00<?, ?it/s]#015     17/19     2.56G    0.1142    0.2573  0.002469     0.374       139       512:   0%|          | 0/6 [00:00<?, ?it/s]#015     17/19     2.56G    0.1142    0.2573  0.002469     0.374       139       512:  17%|█▋        | 1/6 [00:00<00:03,  1.51it/s]#015     17/19     2.56G    0.1083    0.3257  0.002471    0.4365       146       512:  17%|█▋        | 1/6 [00:00<00:03,  1.51it/s]#015     17/19     2.56G    0.1083    0.3257  0.002471    0.4365       146       512:  33%|███▎      | 2/6 [00:00<00:02,  1.91it/s]#015     17/19     2.56G    0.1067    0.3255  0.002466    0.4347       131       512:  33%|███▎      | 2/6 [00:01<00:02,  1.91it/s]#015     17/19     2.56G    0.1067    0.3255  0.002466    0.4347       131       512:  50%|█████     | 3/6 [00:01<00:01,  2.34it/s]#015     17/19     2.56G    0.1053     0.314  0.002451    0.4218        75       512:  50%|█████     | 3/6 [00:01<00:01,  2.34it/s]#015     17/19     2.56G    0.1053     0.314  0.002451    0.4218        75       512:  67%|██████▋   | 4/6 [00:01<00:00,  2.79it/s]#015     17/19     2.56G    0.1037    0.3499  0.002454     0.456       147       512:  67%|██████▋   | 4/6 [00:01<00:00,  2.79it/s]#015     17/19     2.56G    0.1037    0.3499  0.002454     0.456       147       512:  83%|████████▎ | 5/6 [00:01<00:00,  3.19it/s]#015     17/19     2.56G    0.1035     0.337  0.002447     0.443        32       512:  83%|████████▎ | 5/6 [00:01<00:00,  3.19it/s]#015     17/19     2.56G    0.1035     0.337  0.002447     0.443        32       512: 100%|██████████| 6/6 [00:01<00:00,  3.90it/s]#015     17/19     2.56G    0.1035     0.337  0.002447     0.443        32       512: 100%|██████████| 6/6 [00:01<00:00,  3.67it/s]\u001b[0m\n",
      "\u001b[34m#015               Class      Images     Targets           P           R      mAP@.5  mAP@.5:.95:   0%|          | 0/6 [00:00<?, ?it/s]#015               Class      Images     Targets           P           R      mAP@.5  mAP@.5:.95:  17%|█▋        | 1/6 [00:00<00:01,  2.70it/s]#015               Class      Images     Targets           P           R      mAP@.5  mAP@.5:.95:  50%|█████     | 3/6 [00:00<00:00,  3.51it/s]#015               Class      Images     Targets           P           R      mAP@.5  mAP@.5:.95:  83%|████████▎ | 5/6 [00:00<00:00,  4.41it/s]#015               Class      Images     Targets           P           R      mAP@.5  mAP@.5:.95: 100%|██████████| 6/6 [00:00<00:00,  7.12it/s]\u001b[0m\n",
      "\u001b[34m#015  0%|          | 0/6 [00:00<?, ?it/s]#015     18/19     2.56G    0.1063    0.2275  0.002454    0.3362        96       512:   0%|          | 0/6 [00:00<?, ?it/s]#015     18/19     2.56G    0.1063    0.2275  0.002454    0.3362        96       512:  17%|█▋        | 1/6 [00:00<00:03,  1.37it/s]#015     18/19     2.56G    0.1061    0.2555  0.002441    0.3641       151       512:  17%|█▋        | 1/6 [00:00<00:03,  1.37it/s]#015     18/19     2.56G    0.1061    0.2555  0.002441    0.3641       151       512:  33%|███▎      | 2/6 [00:00<00:02,  1.76it/s]#015     18/19     2.56G    0.1073    0.2074  0.002437    0.3172        89       512:  33%|███▎      | 2/6 [00:01<00:02,  1.76it/s]#015     18/19     2.56G    0.1073    0.2074  0.002437    0.3172        89       512:  50%|█████     | 3/6 [00:01<00:01,  2.17it/s]#015     18/19     2.56G    0.1061    0.2412  0.002439    0.3497       119       512:  50%|█████     | 3/6 [00:01<00:01,  2.17it/s]#015     18/19     2.56G    0.1061    0.2412  0.002439    0.3497       119       512:  67%|██████▋   | 4/6 [00:01<00:00,  2.63it/s]#015     18/19     2.56G    0.1051    0.2771  0.002439    0.3846       157       512:  67%|██████▋   | 4/6 [00:01<00:00,  2.63it/s]#015     18/19     2.56G    0.1051    0.2771  0.002439    0.3846       157       512:  83%|████████▎ | 5/6 [00:01<00:00,  3.00it/s]#015     18/19     2.56G    0.1028    0.3114  0.002444    0.4166        43       512:  83%|████████▎ | 5/6 [00:01<00:00,  3.00it/s]#015     18/19     2.56G    0.1028    0.3114  0.002444    0.4166        43       512: 100%|██████████| 6/6 [00:01<00:00,  3.69it/s]#015     18/19     2.56G    0.1028    0.3114  0.002444    0.4166        43       512: 100%|██████████| 6/6 [00:01<00:00,  3.47it/s]\u001b[0m\n",
      "\u001b[34m#015               Class      Images     Targets           P           R      mAP@.5  mAP@.5:.95:   0%|          | 0/6 [00:00<?, ?it/s]#015               Class      Images     Targets           P           R      mAP@.5  mAP@.5:.95:  17%|█▋        | 1/6 [00:00<00:01,  2.86it/s]#015               Class      Images     Targets           P           R      mAP@.5  mAP@.5:.95:  50%|█████     | 3/6 [00:00<00:00,  3.68it/s]#015               Class      Images     Targets           P           R      mAP@.5  mAP@.5:.95:  83%|████████▎ | 5/6 [00:00<00:00,  4.62it/s]#015               Class      Images     Targets           P           R      mAP@.5  mAP@.5:.95: 100%|██████████| 6/6 [00:00<00:00,  7.45it/s]\u001b[0m\n",
      "\u001b[34m#015  0%|          | 0/6 [00:00<?, ?it/s]#015     19/19     2.56G    0.1137      0.16  0.002435    0.2762        77       512:   0%|          | 0/6 [00:00<?, ?it/s]#015     19/19     2.56G    0.1137      0.16  0.002435    0.2762        77       512:  17%|█▋        | 1/6 [00:00<00:04,  1.24it/s]#015     19/19     2.56G     0.105    0.1841  0.002456    0.2916        35       512:  17%|█▋        | 1/6 [00:01<00:04,  1.24it/s]#015     19/19     2.56G     0.105    0.1841  0.002456    0.2916        35       512:  33%|███▎      | 2/6 [00:01<00:02,  1.60it/s]#015     19/19     2.56G     0.105    0.2246  0.002442     0.332       147       512:  33%|███▎      | 2/6 [00:01<00:02,  1.60it/s]#015     19/19     2.56G     0.105    0.2246  0.002442     0.332       147       512:  50%|█████     | 3/6 [00:01<00:01,  1.97it/s]#015     19/19     2.56G    0.1038     0.271  0.002444    0.3772        97       512:  50%|█████     | 3/6 [00:01<00:01,  1.97it/s]#015     19/19     2.56G    0.1038     0.271  0.002444    0.3772        97       512:  67%|██████▋   | 4/6 [00:01<00:00,  2.42it/s]#015     19/19     2.56G     0.103    0.2828  0.002445    0.3883        74       512:  67%|██████▋   | 4/6 [00:01<00:00,  2.42it/s]#015     19/19     2.56G     0.103    0.2828  0.002445    0.3883        74       512:  83%|████████▎ | 5/6 [00:01<00:00,  2.80it/s]#015     19/19     2.56G    0.1038    0.2802  0.002436    0.3864        48       512:  83%|████████▎ | 5/6 [00:01<00:00,  2.80it/s]#015     19/19     2.56G    0.1038    0.2802  0.002436    0.3864        48       512: 100%|██████████| 6/6 [00:01<00:00,  3.49it/s]#015     19/19     2.56G    0.1038    0.2802  0.002436    0.3864        48       512: 100%|██████████| 6/6 [00:01<00:00,  3.30it/s]\u001b[0m\n",
      "\u001b[34m#015               Class      Images     Targets           P           R      mAP@.5  mAP@.5:.95:   0%|          | 0/6 [00:00<?, ?it/s]#015               Class      Images     Targets           P           R      mAP@.5  mAP@.5:.95:  17%|█▋        | 1/6 [00:00<00:01,  2.75it/s]#015               Class      Images     Targets           P           R      mAP@.5  mAP@.5:.95:  50%|█████     | 3/6 [00:00<00:00,  3.58it/s]#015               Class      Images     Targets           P           R      mAP@.5  mAP@.5:.95:  83%|████████▎ | 5/6 [00:00<00:00,  4.51it/s]#015               Class      Images     Targets           P           R      mAP@.5  mAP@.5:.95: 100%|██████████| 6/6 [00:00<00:00,  7.44it/s]\u001b[0m\n",
      "\u001b[34m/opt/ml/code/utils/layers.py:70: TracerWarning: Converting a tensor to a Python index might cause the trace to be incorrect. We can't record the data flow of Python values, so this value will be treated as a constant in the future. This means that the trace might not generalize to other inputs!\n",
      "  return torch.cat([outputs[i][:,:outputs[i].shape[1]//2,:,:] for i in self.layers], 1) if self.multiple else outputs[self.layers[0]][:,:outputs[self.layers[0]].shape[1]//2,:,:]\u001b[0m\n",
      "\u001b[34m/opt/ml/code/models/models.py:240: TracerWarning: Converting a tensor to a Python boolean might cause the trace to be incorrect. We can't record the data flow of Python values, so this value will be treated as a constant in the future. This means that the trace might not generalize to other inputs!\n",
      "  if (self.nx, self.ny) != (nx, ny):\u001b[0m\n",
      "\u001b[34m/opt/conda/lib/python3.6/site-packages/torch/jit/_trace.py:940: TracerWarning: Encountering a list at the output of the tracer might cause the trace to be incorrect, this is only valid if the container structure does not change based on the module's inputs. Consider using a constant container instead (e.g. for `list`, use a `tuple` instead. for `dict`, use a `NamedTuple` instead). If you absolutely need this and know the side effects, pass strict=False to trace() to allow this behavior.\n",
      "  _force_outplace,\u001b[0m\n",
      "\n",
      "2022-03-18 17:17:17 Uploading - Uploading generated training model\n",
      "2022-03-18 17:18:48 Completed - Training job completed\n",
      "ProfilerReport-1647623300: NoIssuesFound\n",
      "Training seconds: 505\n",
      "Billable seconds: 505\n"
     ]
    }
   ],
   "source": [
    "estimator.fit({'train': train_path, 'validation': val_path})"
   ]
  },
  {
   "cell_type": "code",
   "execution_count": 10,
   "metadata": {},
   "outputs": [
    {
     "name": "stdout",
     "output_type": "stream",
     "text": [
      "trained model: s3://sagemaker-eu-west-1-763989535729/pytorch-training-2022-03-18-17-08-20-984/output/model.tar.gz\n"
     ]
    }
   ],
   "source": [
    "s3_uri=f'{estimator.output_path}{estimator.latest_training_job.name}/output/model.tar.gz'\n",
    "print('trained model: ' + s3_uri )"
   ]
  },
  {
   "cell_type": "markdown",
   "metadata": {},
   "source": [
    "## 4) Compile your trained model for the edge device\n",
    "\n",
    "Once the model has been traied, we need to compile the model using SageMaker Neo. This step is needed to compile the model for the specific hardware on which this model will be deployed. \n",
    "\n",
    "In this notebook, we will compile a model for [Jetson Xavier Jetpack 4.4.1](https://developer.nvidia.com/jetpack-sdk-441-archive). \n",
    "\n",
    "In case, you want to compile for a different hardware platform, just change the parameters bellow to adjust the target to your own edge device. Also, note, that if you dont have GPU available on the hardware device, then you can comment the `Accelerator` key:value in the `OutputConfig`.\n",
    "\n",
    "The below cell also calls the `describe_compilation_job` API in a loop to wait for the compilation job to complete. In actual applications, it is advisable to setup a cloudwatch event which can notify OR execute the next steps once the compilation job is complete."
   ]
  },
  {
   "cell_type": "code",
   "execution_count": 13,
   "metadata": {},
   "outputs": [
    {
     "name": "stdout",
     "output_type": "stream",
     "text": [
      "Running...\n",
      "Running...\n",
      "Running...\n",
      "Running...\n",
      "Running...\n",
      "Running...\n",
      "Running...\n",
      "Running...\n",
      "Running...\n",
      "Running...\n",
      "Running...\n",
      "Running...\n",
      "Running...\n",
      "Running...\n",
      "Running...\n",
      "Running...\n",
      "Running...\n",
      "Running...\n",
      "Running...\n",
      "Running...\n",
      "Running...\n",
      "Running...\n",
      "Running...\n",
      "Running...\n",
      "Running...\n",
      "Running...\n",
      "Running...\n",
      "Running...\n",
      "Running...\n",
      "Running...\n",
      "Running...\n",
      "Running...\n",
      "Running...\n",
      "Running...\n",
      "Running...\n",
      "Running...\n",
      "Running...\n",
      "Running...\n",
      "Running...\n",
      "Running...\n",
      "Running...\n",
      "Running...\n",
      "Running...\n",
      "Running...\n",
      "Running...\n",
      "Running...\n",
      "Running...\n",
      "Running...\n",
      "Running...\n",
      "Running...\n",
      "Running...\n",
      "COMPLETED yolov4-tiny-pytorch-1647624912575\n"
     ]
    }
   ],
   "source": [
    "import time\n",
    "import boto3\n",
    "sm_client = boto3.client('sagemaker')\n",
    "compilation_job_name = f'{model_name}-pytorch-{int(time.time()*1000)}'\n",
    "sm_client.create_compilation_job(\n",
    "    CompilationJobName=compilation_job_name,\n",
    "    RoleArn=role,\n",
    "    InputConfig={\n",
    "        'S3Uri': s3_uri,\n",
    "        'DataInputConfig': f'{{\"input\": [1,3,{img_size},{img_size}]}}',\n",
    "        'Framework': 'PYTORCH'\n",
    "    },\n",
    "    OutputConfig={\n",
    "        'S3OutputLocation': f's3://{sagemaker_session.default_bucket()}/{model_name}-pytorch/optimized/',\n",
    "        'TargetPlatform': { \n",
    "            'Os': 'LINUX', \n",
    "            'Arch': 'X86_64'#, # change this to X86_64 if you need\n",
    "            #'Arch': 'ARM64', # change this to X86_64 if you need\n",
    "            #'Accelerator': 'NVIDIA'  # comment this if you don't have an Nvidia GPU\n",
    "        }#,\n",
    "        # Comment or change the following line depending on your edge device\n",
    "        # Jetson Xavier: sm_72; Jetson Nano: sm_53\n",
    "        #'CompilerOptions': '{\"trt-ver\": \"7.1.3\", \"cuda-ver\": \"10.2\", \"gpu-code\": \"sm_53\"}' # Jetpack 4.4.1\n",
    "    },\n",
    "    StoppingCondition={ 'MaxRuntimeInSeconds': 900 }\n",
    ")\n",
    "while True:\n",
    "    resp = sm_client.describe_compilation_job(CompilationJobName=compilation_job_name)    \n",
    "    if resp['CompilationJobStatus'] in ['STARTING', 'INPROGRESS']:\n",
    "        print('Running...')\n",
    "    else:\n",
    "        print(resp['CompilationJobStatus'], compilation_job_name)\n",
    "        break\n",
    "    time.sleep(5)\n"
   ]
  },
  {
   "cell_type": "markdown",
   "metadata": {},
   "source": [
    "## 5) Download the compiled model"
   ]
  },
  {
   "cell_type": "code",
   "execution_count": 14,
   "metadata": {},
   "outputs": [
    {
     "name": "stdout",
     "output_type": "stream",
     "text": [
      "download: s3://sagemaker-eu-west-1-763989535729/yolov4-tiny-pytorch/optimized/model-LINUX_X86_64.tar.gz to ../../../tmp/model.tar.gz\n",
      "compiled_model.json\n",
      "compiled.so\n",
      "dlr.h\n",
      "libdlr.so\n",
      "compiled.meta\n",
      "compiled.params\n",
      "manifest\n"
     ]
    }
   ],
   "source": [
    "output_model_path = f's3://{sagemaker_session.default_bucket()}/{model_name}-pytorch/optimized/model-LINUX_X86_64.tar.gz'\n",
    "!aws s3 cp $output_model_path /tmp/model.tar.gz\n",
    "!rm -rf model_object_detection && mkdir model_object_detection\n",
    "!tar -xzvf /tmp/model.tar.gz -C model_object_detection"
   ]
  },
  {
   "cell_type": "markdown",
   "metadata": {},
   "source": [
    "## 6) Run the model locally"
   ]
  },
  {
   "cell_type": "code",
   "execution_count": 47,
   "metadata": {},
   "outputs": [],
   "source": [
    "%matplotlib inline\n",
    "import numpy as np\n",
    "import cv2\n",
    "import matplotlib.pyplot as plt\n",
    "import os\n",
    "\n",
    "# Classes\n",
    "labels= ['1', '0']  # class names"
   ]
  },
  {
   "cell_type": "markdown",
   "metadata": {},
   "source": [
    "### 6.1) Load the model using the runtime DLR"
   ]
  },
  {
   "cell_type": "code",
   "execution_count": null,
   "metadata": {},
   "outputs": [],
   "source": [
    "!pip install dlr==1.8.0"
   ]
  },
  {
   "cell_type": "code",
   "execution_count": 18,
   "metadata": {},
   "outputs": [
    {
     "name": "stderr",
     "output_type": "stream",
     "text": [
      "2022-03-18 17:41:48,999 INFO Found libdlr.so in model artifact. Using dlr from model_object_detection/libdlr.so\n"
     ]
    },
    {
     "name": "stdout",
     "output_type": "stream",
     "text": [
      "\n",
      " CALL HOME FEATURE ENABLED\n",
      "                            \n",
      "\n",
      " You acknowledge and agree that DLR collects the following metrics to help improve its performance.                             \n",
      " By default, Amazon will collect and store the following information from your device:                             \n",
      "\n",
      " record_type: <enum, internal record status, such as model_loaded, model_>,                             \n",
      " arch: <string, platform architecture, eg 64bit>,                             \n",
      " osname: <string, platform os name, eg. Linux>,                             \n",
      " uuid: <string, one-way non-identifable hashed mac address, eg. 8fb35b79f7c7aa2f86afbcb231b1ba6e>,                             \n",
      " dist: <string, distribution of os, eg. Ubuntu 16.04 xenial>,                             \n",
      " machine: <string, retuns the machine type, eg. x86_64 or i386>,                             \n",
      " model: <string, one-way non-identifable hashed model name, eg. 36f613e00f707dbe53a64b1d9625ae7d>                             \n",
      "\n",
      " If you wish to opt-out of this data collection feature, please follow the steps below:                             \n",
      "\t1. Disable it with through code:                             \n",
      "\t\t from dlr.counter.phone_home import PhoneHome                             \n",
      "\t\t PhoneHome.disable_feature()                            \n",
      "\t2. Or, create a config file, ccm_config.json inside your DLR target directory path, i.e. python3.6/site-packages/dlr/counter/ccm_config.json. Then added below format content in it, {\"enable_phone_home\" : false}                             \n",
      "\t3. Restart DLR application.                             \n",
      "\t4. Validate this feature is disabled by verifying this notification is no longer displayed, or programmatically with following command:                             \n",
      "\t\tfrom dlr.counter.phone_home import PhoneHome                             \n",
      "\t\tPhoneHome.is_enabled() # false as disabled \n"
     ]
    }
   ],
   "source": [
    "import dlr\n",
    "# load the model (CPU x86_64)\n"
   ]
  },
  {
   "cell_type": "code",
   "execution_count": 54,
   "metadata": {},
   "outputs": [
    {
     "data": {
      "text/plain": [
       "<matplotlib.image.AxesImage at 0x7f338a04a128>"
      ]
     },
     "execution_count": 54,
     "metadata": {},
     "output_type": "execute_result"
    },
    {
     "data": {
      "image/png": "[encoded data removed]",
      "text/plain": [
       "<Figure size 432x288 with 1 Axes>"
      ]
     },
     "metadata": {
      "needs_background": "light"
     },
     "output_type": "display_data"
    }
   ],
   "source": [
    "import utils\n",
    "\n",
    "# Read the image using OpenCV\n",
    "img = cv2.imread('./panelscoco512/images/2_3-1_thermal_cropped0.jpg')\n",
    "img = cv2.cvtColor(img, cv2.COLOR_RGB2BGR)\n",
    "plt.imshow(img)"
   ]
  },
  {
   "cell_type": "code",
   "execution_count": 55,
   "metadata": {},
   "outputs": [
    {
     "name": "stderr",
     "output_type": "stream",
     "text": [
      "2022-03-21 17:17:15,584 INFO Found libdlr.so in model artifact. Using dlr from model_object_detection/libdlr.so\n"
     ]
    },
    {
     "ename": "ValueError",
     "evalue": "not enough values to unpack (expected 5, got 4)",
     "output_type": "error",
     "traceback": [
      "\u001b[0;31m---------------------------------------------------------------------------\u001b[0m",
      "\u001b[0;31mValueError\u001b[0m                                Traceback (most recent call last)",
      "\u001b[0;32m<ipython-input-55-8b385064cbee>\u001b[0m in \u001b[0;36m<module>\u001b[0;34m\u001b[0m\n\u001b[1;32m     12\u001b[0m \u001b[0mpreds\u001b[0m \u001b[0;34m=\u001b[0m \u001b[0mpredict\u001b[0m\u001b[0;34m(\u001b[0m\u001b[0mmodelDLR\u001b[0m\u001b[0;34m,\u001b[0m \u001b[0mx\u001b[0m\u001b[0;34m)\u001b[0m\u001b[0;34m\u001b[0m\u001b[0;34m\u001b[0m\u001b[0m\n\u001b[1;32m     13\u001b[0m \u001b[0;31m# Convert the predictions into Detections(bounding boxes, scores and class ids)\u001b[0m\u001b[0;34m\u001b[0m\u001b[0;34m\u001b[0m\u001b[0;34m\u001b[0m\u001b[0m\n\u001b[0;32m---> 14\u001b[0;31m \u001b[0mdetections\u001b[0m \u001b[0;34m=\u001b[0m \u001b[0mutils\u001b[0m\u001b[0;34m.\u001b[0m\u001b[0mdetect\u001b[0m\u001b[0;34m(\u001b[0m\u001b[0mpreds\u001b[0m\u001b[0;34m,\u001b[0m \u001b[0;36m0.25\u001b[0m\u001b[0;34m,\u001b[0m \u001b[0;36m0.5\u001b[0m\u001b[0;34m,\u001b[0m \u001b[0;32mTrue\u001b[0m\u001b[0;34m)\u001b[0m\u001b[0;34m\u001b[0m\u001b[0;34m\u001b[0m\u001b[0m\n\u001b[0m\u001b[1;32m     15\u001b[0m \u001b[0;31m# Iterate over the detections and do what you need to do\u001b[0m\u001b[0;34m\u001b[0m\u001b[0;34m\u001b[0m\u001b[0;34m\u001b[0m\u001b[0m\n\u001b[1;32m     16\u001b[0m \u001b[0;32mfor\u001b[0m \u001b[0mtop_left_corner\u001b[0m\u001b[0;34m,\u001b[0m\u001b[0mbottom_right_corner\u001b[0m\u001b[0;34m,\u001b[0m \u001b[0mconf\u001b[0m\u001b[0;34m,\u001b[0m \u001b[0mclass_id\u001b[0m \u001b[0;32min\u001b[0m \u001b[0mdetections\u001b[0m\u001b[0;34m:\u001b[0m\u001b[0;34m\u001b[0m\u001b[0;34m\u001b[0m\u001b[0m\n",
      "\u001b[0;32m~/RI_Industry_Kit/cv-model/utils.py\u001b[0m in \u001b[0;36mdetect\u001b[0;34m(pred, conf_tresh, iou_tresh, merge)\u001b[0m\n\u001b[1;32m    175\u001b[0m     \u001b[0mexptected\u001b[0m \u001b[0minput\u001b[0m \u001b[0mshapes\u001b[0m \u001b[0;34m=\u001b[0m \u001b[0;34m[\u001b[0m\u001b[0;34m(\u001b[0m\u001b[0mbatch_size\u001b[0m\u001b[0;34m,\u001b[0m\u001b[0;36m3\u001b[0m\u001b[0;34m,\u001b[0m\u001b[0;36m13\u001b[0m\u001b[0;34m,\u001b[0m\u001b[0;36m1\u001b[0m\u001b[0;34m,\u001b[0m\u001b[0mnum_classes\u001b[0m\u001b[0;34m+\u001b[0m\u001b[0;36m5\u001b[0m\u001b[0;34m)\u001b[0m\u001b[0;34m,\u001b[0m \u001b[0;34m(\u001b[0m\u001b[0mbatch_size\u001b[0m\u001b[0;34m,\u001b[0m\u001b[0;36m3\u001b[0m\u001b[0;34m,\u001b[0m\u001b[0;36m26\u001b[0m\u001b[0;34m,\u001b[0m\u001b[0;36m26\u001b[0m\u001b[0;34m,\u001b[0m\u001b[0mnum_classes\u001b[0m\u001b[0;34m+\u001b[0m\u001b[0;36m5\u001b[0m\u001b[0;34m)\u001b[0m\u001b[0;34m]\u001b[0m\u001b[0;34m\u001b[0m\u001b[0;34m\u001b[0m\u001b[0m\n\u001b[1;32m    176\u001b[0m     '''\n\u001b[0;32m--> 177\u001b[0;31m     \u001b[0mpred\u001b[0m \u001b[0;34m=\u001b[0m \u001b[0mnp\u001b[0m\u001b[0;34m.\u001b[0m\u001b[0mconcatenate\u001b[0m\u001b[0;34m(\u001b[0m\u001b[0;34m[\u001b[0m\u001b[0mget_pred\u001b[0m\u001b[0;34m(\u001b[0m\u001b[0msigmoid\u001b[0m\u001b[0;34m(\u001b[0m\u001b[0mp\u001b[0m\u001b[0;34m)\u001b[0m\u001b[0;34m,\u001b[0m \u001b[0mstride\u001b[0m\u001b[0;34m[\u001b[0m\u001b[0mi\u001b[0m\u001b[0;34m]\u001b[0m\u001b[0;34m,\u001b[0m\u001b[0manchors\u001b[0m\u001b[0;34m[\u001b[0m\u001b[0mi\u001b[0m\u001b[0;34m]\u001b[0m\u001b[0;34m)\u001b[0m \u001b[0;32mfor\u001b[0m \u001b[0mi\u001b[0m\u001b[0;34m,\u001b[0m\u001b[0mp\u001b[0m \u001b[0;32min\u001b[0m \u001b[0menumerate\u001b[0m\u001b[0;34m(\u001b[0m\u001b[0mpred\u001b[0m\u001b[0;34m)\u001b[0m\u001b[0;34m]\u001b[0m\u001b[0;34m,\u001b[0m \u001b[0maxis\u001b[0m\u001b[0;34m=\u001b[0m\u001b[0;36m1\u001b[0m\u001b[0;34m)\u001b[0m\u001b[0;34m\u001b[0m\u001b[0;34m\u001b[0m\u001b[0m\n\u001b[0m\u001b[1;32m    178\u001b[0m     \u001b[0mpreds\u001b[0m \u001b[0;34m=\u001b[0m \u001b[0mnon_max_suppression\u001b[0m\u001b[0;34m(\u001b[0m\u001b[0mpred\u001b[0m\u001b[0;34m,\u001b[0m \u001b[0mconf_tresh\u001b[0m\u001b[0;34m,\u001b[0m \u001b[0miou_tresh\u001b[0m\u001b[0;34m,\u001b[0m \u001b[0mmerge\u001b[0m\u001b[0;34m)\u001b[0m\u001b[0;34m\u001b[0m\u001b[0;34m\u001b[0m\u001b[0m\n\u001b[1;32m    179\u001b[0m     \u001b[0mdetections\u001b[0m \u001b[0;34m=\u001b[0m \u001b[0;34m[\u001b[0m\u001b[0;34m]\u001b[0m\u001b[0;34m\u001b[0m\u001b[0;34m\u001b[0m\u001b[0m\n",
      "\u001b[0;32m~/RI_Industry_Kit/cv-model/utils.py\u001b[0m in \u001b[0;36m<listcomp>\u001b[0;34m(.0)\u001b[0m\n\u001b[1;32m    175\u001b[0m     \u001b[0mexptected\u001b[0m \u001b[0minput\u001b[0m \u001b[0mshapes\u001b[0m \u001b[0;34m=\u001b[0m \u001b[0;34m[\u001b[0m\u001b[0;34m(\u001b[0m\u001b[0mbatch_size\u001b[0m\u001b[0;34m,\u001b[0m\u001b[0;36m3\u001b[0m\u001b[0;34m,\u001b[0m\u001b[0;36m13\u001b[0m\u001b[0;34m,\u001b[0m\u001b[0;36m1\u001b[0m\u001b[0;34m,\u001b[0m\u001b[0mnum_classes\u001b[0m\u001b[0;34m+\u001b[0m\u001b[0;36m5\u001b[0m\u001b[0;34m)\u001b[0m\u001b[0;34m,\u001b[0m \u001b[0;34m(\u001b[0m\u001b[0mbatch_size\u001b[0m\u001b[0;34m,\u001b[0m\u001b[0;36m3\u001b[0m\u001b[0;34m,\u001b[0m\u001b[0;36m26\u001b[0m\u001b[0;34m,\u001b[0m\u001b[0;36m26\u001b[0m\u001b[0;34m,\u001b[0m\u001b[0mnum_classes\u001b[0m\u001b[0;34m+\u001b[0m\u001b[0;36m5\u001b[0m\u001b[0;34m)\u001b[0m\u001b[0;34m]\u001b[0m\u001b[0;34m\u001b[0m\u001b[0;34m\u001b[0m\u001b[0m\n\u001b[1;32m    176\u001b[0m     '''\n\u001b[0;32m--> 177\u001b[0;31m     \u001b[0mpred\u001b[0m \u001b[0;34m=\u001b[0m \u001b[0mnp\u001b[0m\u001b[0;34m.\u001b[0m\u001b[0mconcatenate\u001b[0m\u001b[0;34m(\u001b[0m\u001b[0;34m[\u001b[0m\u001b[0mget_pred\u001b[0m\u001b[0;34m(\u001b[0m\u001b[0msigmoid\u001b[0m\u001b[0;34m(\u001b[0m\u001b[0mp\u001b[0m\u001b[0;34m)\u001b[0m\u001b[0;34m,\u001b[0m \u001b[0mstride\u001b[0m\u001b[0;34m[\u001b[0m\u001b[0mi\u001b[0m\u001b[0;34m]\u001b[0m\u001b[0;34m,\u001b[0m\u001b[0manchors\u001b[0m\u001b[0;34m[\u001b[0m\u001b[0mi\u001b[0m\u001b[0;34m]\u001b[0m\u001b[0;34m)\u001b[0m \u001b[0;32mfor\u001b[0m \u001b[0mi\u001b[0m\u001b[0;34m,\u001b[0m\u001b[0mp\u001b[0m \u001b[0;32min\u001b[0m \u001b[0menumerate\u001b[0m\u001b[0;34m(\u001b[0m\u001b[0mpred\u001b[0m\u001b[0;34m)\u001b[0m\u001b[0;34m]\u001b[0m\u001b[0;34m,\u001b[0m \u001b[0maxis\u001b[0m\u001b[0;34m=\u001b[0m\u001b[0;36m1\u001b[0m\u001b[0;34m)\u001b[0m\u001b[0;34m\u001b[0m\u001b[0;34m\u001b[0m\u001b[0m\n\u001b[0m\u001b[1;32m    178\u001b[0m     \u001b[0mpreds\u001b[0m \u001b[0;34m=\u001b[0m \u001b[0mnon_max_suppression\u001b[0m\u001b[0;34m(\u001b[0m\u001b[0mpred\u001b[0m\u001b[0;34m,\u001b[0m \u001b[0mconf_tresh\u001b[0m\u001b[0;34m,\u001b[0m \u001b[0miou_tresh\u001b[0m\u001b[0;34m,\u001b[0m \u001b[0mmerge\u001b[0m\u001b[0;34m)\u001b[0m\u001b[0;34m\u001b[0m\u001b[0;34m\u001b[0m\u001b[0m\n\u001b[1;32m    179\u001b[0m     \u001b[0mdetections\u001b[0m \u001b[0;34m=\u001b[0m \u001b[0;34m[\u001b[0m\u001b[0;34m]\u001b[0m\u001b[0;34m\u001b[0m\u001b[0;34m\u001b[0m\u001b[0m\n",
      "\u001b[0;32m~/RI_Industry_Kit/cv-model/utils.py\u001b[0m in \u001b[0;36mget_pred\u001b[0;34m(io, stride, anchors)\u001b[0m\n\u001b[1;32m    162\u001b[0m     '''\n\u001b[1;32m    163\u001b[0m     \u001b[0manchor_wh\u001b[0m \u001b[0;34m=\u001b[0m \u001b[0;34m(\u001b[0m\u001b[0mnp\u001b[0m\u001b[0;34m.\u001b[0m\u001b[0marray\u001b[0m\u001b[0;34m(\u001b[0m\u001b[0manchors\u001b[0m\u001b[0;34m)\u001b[0m \u001b[0;34m/\u001b[0m \u001b[0mstride\u001b[0m\u001b[0;34m)\u001b[0m\u001b[0;34m.\u001b[0m\u001b[0mreshape\u001b[0m\u001b[0;34m(\u001b[0m\u001b[0;36m1\u001b[0m\u001b[0;34m,\u001b[0m \u001b[0mlen\u001b[0m\u001b[0;34m(\u001b[0m\u001b[0manchors\u001b[0m\u001b[0;34m)\u001b[0m\u001b[0;34m,\u001b[0m \u001b[0;36m1\u001b[0m\u001b[0;34m,\u001b[0m \u001b[0;36m1\u001b[0m\u001b[0;34m,\u001b[0m \u001b[0;36m2\u001b[0m\u001b[0;34m)\u001b[0m\u001b[0;34m\u001b[0m\u001b[0;34m\u001b[0m\u001b[0m\n\u001b[0;32m--> 164\u001b[0;31m     \u001b[0mbs\u001b[0m\u001b[0;34m,\u001b[0m \u001b[0m_\u001b[0m\u001b[0;34m,\u001b[0m \u001b[0mny\u001b[0m\u001b[0;34m,\u001b[0m \u001b[0mnx\u001b[0m\u001b[0;34m,\u001b[0m\u001b[0mno\u001b[0m \u001b[0;34m=\u001b[0m \u001b[0mio\u001b[0m\u001b[0;34m.\u001b[0m\u001b[0mshape\u001b[0m\u001b[0;34m\u001b[0m\u001b[0;34m\u001b[0m\u001b[0m\n\u001b[0m\u001b[1;32m    165\u001b[0m     \u001b[0mgrid\u001b[0m \u001b[0;34m=\u001b[0m \u001b[0mcreate_grids\u001b[0m\u001b[0;34m(\u001b[0m\u001b[0;34m(\u001b[0m\u001b[0mnx\u001b[0m\u001b[0;34m,\u001b[0m\u001b[0mny\u001b[0m\u001b[0;34m)\u001b[0m\u001b[0;34m)\u001b[0m\u001b[0;34m\u001b[0m\u001b[0;34m\u001b[0m\u001b[0m\n\u001b[1;32m    166\u001b[0m     \u001b[0mio\u001b[0m\u001b[0;34m[\u001b[0m\u001b[0;34m...\u001b[0m\u001b[0;34m,\u001b[0m \u001b[0;34m:\u001b[0m\u001b[0;36m2\u001b[0m\u001b[0;34m]\u001b[0m \u001b[0;34m=\u001b[0m \u001b[0;34m(\u001b[0m\u001b[0mio\u001b[0m\u001b[0;34m[\u001b[0m\u001b[0;34m...\u001b[0m\u001b[0;34m,\u001b[0m \u001b[0;34m:\u001b[0m\u001b[0;36m2\u001b[0m\u001b[0;34m]\u001b[0m \u001b[0;34m*\u001b[0m \u001b[0;36m2.\u001b[0m \u001b[0;34m-\u001b[0m \u001b[0;36m0.5\u001b[0m \u001b[0;34m+\u001b[0m \u001b[0mgrid\u001b[0m\u001b[0;34m)\u001b[0m\u001b[0;34m\u001b[0m\u001b[0;34m\u001b[0m\u001b[0m\n",
      "\u001b[0;31mValueError\u001b[0m: not enough values to unpack (expected 5, got 4)"
     ]
    }
   ],
   "source": [
    "import utils\n",
    "\n",
    "modelDLR = dlr.DLRModel('model_object_detection', 'cpu')\n",
    "\n",
    "def predict(model, x):\n",
    "    return model.run(x)[0]\n",
    "\n",
    "confidence_treshold=0.1\n",
    "# Convert the image to the expected network input\n",
    "x = utils.preprocess_img(img, img_size=512)\n",
    "# Run the model and get the predictions\n",
    "preds = predict(modelDLR, x)\n",
    "# Convert the predictions into Detections(bounding boxes, scores and class ids)\n",
    "detections = utils.detect(preds, 0.25, 0.5, True)\n",
    "# Iterate over the detections and do what you need to do\n",
    "for top_left_corner,bottom_right_corner, conf, class_id in detections:\n",
    "    if confidence_treshold < 0.1: continue\n",
    "    print( f\"bbox: {top_left_corner},{bottom_right_corner}, score: {conf}, class_id: {class_id}\")"
   ]
  },
  {
   "cell_type": "markdown",
   "metadata": {},
   "source": [
    "## 7) Create a SageMaker Edge Manager packaging job\n",
    "\n",
    "Once the model has been compiled, it is time to create an edge manager packaging job. Packaging job take SageMaker Neo–compiled models and make any changes necessary to deploy the model with the inference engine, Edge Manager agent.\n",
    "\n",
    "We need to provide the name used for the Neo compilation job, a name for the packaging job, a role ARN, a name for the model, a model version, and the Amazon S3 bucket URI for the output of the packaging job. Note that Edge Manager packaging job names are case-sensitive.\n",
    "\n",
    "\n",
    "The below cell also calls the `describe_edge_packaging_job` API in a loop to wait for the packaging job to complete. In actual applications, it is advisable to setup a cloudwatch event which can notify OR execute the next steps once the compilation job is complete."
   ]
  },
  {
   "cell_type": "code",
   "execution_count": 28,
   "metadata": {},
   "outputs": [
    {
     "name": "stdout",
     "output_type": "stream",
     "text": [
      "Running...\n",
      "Running...\n",
      "Running...\n",
      "Running...\n",
      "Running...\n",
      "COMPLETED yolov4-tiny-pytorch-1646239286493\n",
      "package s3 location: s3://sagemaker-eu-west-1-763989535729/yolov4-tiny\n"
     ]
    }
   ],
   "source": [
    "import time\n",
    "model_version = '1.0'\n",
    "edge_packaging_job_name=f'{model_name}-pytorch-{int(time.time()*1000)}'\n",
    "resp = sm_client.create_edge_packaging_job(\n",
    "    EdgePackagingJobName=edge_packaging_job_name,\n",
    "    CompilationJobName=compilation_job_name,\n",
    "    ModelName=model_name,\n",
    "    ModelVersion=model_version,\n",
    "    RoleArn=role,\n",
    "    OutputConfig={\n",
    "        'S3OutputLocation': f's3://{bucket_name}/{model_name}'\n",
    "    }\n",
    ")\n",
    "while True:\n",
    "    resp = sm_client.describe_edge_packaging_job(EdgePackagingJobName=edge_packaging_job_name)    \n",
    "    if resp['EdgePackagingJobStatus'] in ['STARTING', 'INPROGRESS']:\n",
    "        print('Running...')\n",
    "    else:\n",
    "        print(resp['EdgePackagingJobStatus'], compilation_job_name)\n",
    "        print('package s3 location: ' + 's3://'+bucket_name+'/'+model_name)\n",
    "        break\n",
    "    time.sleep(5)"
   ]
  },
  {
   "cell_type": "markdown",
   "metadata": {},
   "source": [
    "# 8) Pre processing + Post processing code\n",
    "After compiling your model, it's time to prepare the application that will use it. In the image bellow you can see the operators that are used by the last layer **YOLOLayer**. When in evaluation mode, this layer applies some operations to merge the two outputs of the network and prepare the predictions for the **Non Maximum Suppression**. In training model, you just have the two raw outputs. \n",
    "\n",
    "Given we're using a pruned version (training mode) of the network, you need to apply some post processing code to your predictions.\n",
    "\n",
    "<table style=\"border: 1px solid black; border-collapse: collapse;\" border=3 cellpadding=0 cellspacing=0>\n",
    "    <tr style=\"border: 1px solid black;\">\n",
    "        <td style=\"text-align: center; border-right: 1px solid;\" align=\"center\"><b>WITH DETECTION (evaluation mode)</b></td>\n",
    "        <td style=\"text-align: center;\" align=\"center\"><b>NO DETECTION (training mode)</b></td>\n",
    "    </tr>    \n",
    "    <tr style=\"border: 1px solid black; border-right: 1px solid;\">\n",
    "        <td width=\"75%\" style=\"border-right: 1px solid;\">\n",
    "            <img src=\"yolov4/imgs/yolov4_detection.png\"/>\n",
    "        </td>\n",
    "        <td>\n",
    "            <img src=\"yolov4/imgs/yolov4_no_detection.png\"/>\n",
    "        </td>\n",
    "    </tr>\n",
    "</table>\n",
    "\n",
    "All the operations required by this process can be found in the script **[Utils](utils.py)**.\n",
    "#### WARNING: run the next cell and copy the output to your **utils.py** before running the application. It is necessary to adjust the anchors and scores for the correct yolov4 version\n",
    "\n",
    "\n",
    "Here it is an example of how to use the code:\n",
    "```Python\n",
    "import utils\n",
    "\n",
    "### your code here\n",
    "### def predict(model, x):...\n",
    "\n",
    "confidence_treshold=0.1\n",
    "# Read the image using OpenCV\n",
    "img = cv2.imread('dog.jpg')\n",
    "# Convert the image to the expected network input\n",
    "x = utils.preprocess_img(img, img_size=416)\n",
    "# Run the model and get the predictions\n",
    "preds = predict(model, x)\n",
    "# Convert the predictions into Detections(bounding boxes, scores and class ids)\n",
    "detections = utils.detect(preds, 0.25, 0.5, True)\n",
    "# Iterate over the detections and do what you need to do\n",
    "for top_left_corner,bottom_right_corner, conf, class_id in detections:\n",
    "    if confidence_treshold < 0.1: continue\n",
    "    print( f\"bbox: {top_left_corner},{bottom_right_corner}, score: {conf}, class_id: {class_id}\")\n",
    "```"
   ]
  },
  {
   "cell_type": "code",
   "execution_count": 29,
   "metadata": {},
   "outputs": [
    {
     "name": "stdout",
     "output_type": "stream",
     "text": [
      "##### Copy the following lines to your util.py\n",
      "anchors = [[[81, 82], [135, 169], [344, 319]], [[23, 27], [37, 58], [81, 82]]]\n",
      "stride = [32, 16, 8]\n"
     ]
    }
   ],
   "source": [
    "## This code parses the .cfg file of the version you're using and\n",
    "## Prints the correct anchors/stride. Copy the output to the 'utils.py' file used by your application\n",
    "import numpy as np\n",
    "\n",
    "cfg_filename=f'yolov4/cfg/{model_name}.cfg'\n",
    "yolo_layer=False\n",
    "yolo_layers = []\n",
    "\n",
    "for i in open(cfg_filename, 'r').readlines(): # read the .cfg file\n",
    "    i = i.strip()\n",
    "    if len(i) == 0 or i.startswith('#'): continue # ignore empty lines and comments\n",
    "    elif i.startswith('[') and i.endswith(']'): # header\n",
    "        if i.lower().replace(' ', '') == '[yolo]':\n",
    "            yolo_layer = True # yolo layer\n",
    "            yolo_layers.append({})\n",
    "    elif yolo_layer: # properties of the layer\n",
    "        k,v = [a.strip() for a in i.split('=')] # split line into key, value\n",
    "        if k == 'anchors': # parse anchors\n",
    "            anchors = np.array([int(j.strip()) for j in v.split(',')])\n",
    "            yolo_layers[-1]['anchors'] = anchors.reshape((len(anchors)//2, 2))\n",
    "        elif k == 'mask': # parse mask\n",
    "            yolo_layers[-1]['mask'] = np.array([int(j.strip()) for j in v.split(',')])\n",
    "\n",
    "stride = [8, 16, 32, 64, 128]  # P3, P4, P5, P6, P7 strides\n",
    "if model_type == 'tiny':  # P5, P4, P3 strides\n",
    "    stride = [32, 16, 8]\n",
    "\n",
    "print(\"##### Copy the following lines to your util.py\")\n",
    "print(f\"anchors = {[l['anchors'][l['mask']].tolist() for l in yolo_layers]}\")\n",
    "print(f\"stride = {stride}\")"
   ]
  },
  {
   "cell_type": "markdown",
   "metadata": {},
   "source": [
    "### Done !!\n",
    "\n",
    "And we are done with all the steps needed to prepare the model for deploying to edge. The model package is avaialble in S3 and can be taken from there to deploy it to edge device. Now you need to move over to your edge device and download and setup edge manager agent(runtime), model and other related artifacts on the device. Please check out the [documentation](https://docs.aws.amazon.com/sagemaker/latest/dg/edge.html) for detailed steps."
   ]
  }
 ],
 "metadata": {
  "instance_type": "ml.g4dn.xlarge",
  "kernelspec": {
   "display_name": "Python 3 (PyTorch 1.6 Python 3.6 GPU Optimized)",
   "language": "python",
   "name": "python3__SAGEMAKER_INTERNAL__arn:aws:sagemaker:eu-west-1:470317259841:image/pytorch-1.6-gpu-py36-cu110-ubuntu18.04-v3"
  },
  "language_info": {
   "codemirror_mode": {
    "name": "ipython",
    "version": 3
   },
   "file_extension": ".py",
   "mimetype": "text/x-python",
   "name": "python",
   "nbconvert_exporter": "python",
   "pygments_lexer": "ipython3",
   "version": "3.6.13"
  }
 },
 "nbformat": 4,
 "nbformat_minor": 5
}
