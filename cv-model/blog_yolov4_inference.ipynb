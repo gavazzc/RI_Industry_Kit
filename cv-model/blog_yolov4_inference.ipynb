{
 "cells": [
  {
   "cell_type": "markdown",
   "id": "d62cc862",
   "metadata": {},
   "source": [
    "# Speed up YOLOv4 inference to twice as fast on Amazon SageMaker  "
   ]
  },
  {
   "cell_type": "markdown",
   "id": "265c1f29",
   "metadata": {},
   "source": [
    "This notebook runs the code given in the AWS Machine Learning Blog [Speed up YOLOv4 inference to twice as fast on Amazon SageMaker](https://aws.amazon.com/blogs/machine-learning/speed-up-yolov4-inference-to-twice-as-fast-on-amazon-sagemaker/)."
   ]
  },
  {
   "cell_type": "markdown",
   "id": "0a5b4f69",
   "metadata": {},
   "source": [
    "Kernel: conda_amazonei_mxnet_p36"
   ]
  },
  {
   "cell_type": "markdown",
   "id": "e2492267",
   "metadata": {},
   "source": [
    "## Pre-requisities"
   ]
  },
  {
   "cell_type": "code",
   "execution_count": null,
   "id": "ceae1367",
   "metadata": {},
   "outputs": [],
   "source": [
    "import numpy as np\n",
    "import time\n",
    "import json\n",
    "import requests\n",
    "import boto3\n",
    "import os\n",
    "import sagemaker"
   ]
  },
  {
   "cell_type": "markdown",
   "id": "9f47ac8c",
   "metadata": {},
   "source": [
    "### AWS Identity and Access Management (IAM) configuration"
   ]
  },
  {
   "cell_type": "code",
   "execution_count": null,
   "id": "f4b8e8e0",
   "metadata": {},
   "outputs": [],
   "source": [
    "from sagemaker import get_execution_role\n",
    "from sagemaker.session import Session\n",
    "\n",
    "role = get_execution_role()\n",
    "sess = Session()\n",
    "region = sess.boto_region_name\n",
    "bucket = sess.default_bucket()\n",
    "\n",
    "import torch\n",
    "print(torch.__version__)\n",
    "\n",
    "# 1.6.0\n",
    "\n",
    "import sys\n",
    "print(sys.version)\n",
    "\n",
    "# 3.6.13 | packaged by conda-forge | (default, Feb 19 2021, 05:36:01)\n",
    "# [GCC 9.3.0]"
   ]
  },
  {
   "cell_type": "markdown",
   "id": "6008ebd4",
   "metadata": {},
   "source": [
    "## Import pre-trained YOLOv4"
   ]
  },
  {
   "cell_type": "code",
   "execution_count": null,
   "id": "5aa5e8ad",
   "metadata": {},
   "outputs": [],
   "source": [
    "model_archive = 'yolov4.tar.gz'\n",
    "!wget https://aws-ml-blog-artifacts.s3.us-east-2.amazonaws.com/yolov4.tar.gz"
   ]
  },
  {
   "cell_type": "code",
   "execution_count": null,
   "id": "9fbe3691",
   "metadata": {},
   "outputs": [],
   "source": [
    "!pwd"
   ]
  },
  {
   "cell_type": "markdown",
   "id": "94ffd5c0",
   "metadata": {},
   "source": [
    "### Upload model to Amazon S3"
   ]
  },
  {
   "cell_type": "code",
   "execution_count": null,
   "id": "d221a0aa",
   "metadata": {},
   "outputs": [],
   "source": [
    "from sagemaker.utils import name_from_base\n",
    "compilation_job_name = name_from_base('torchvision-yolov4-neo-1')\n",
    "prefix = compilation_job_name+'/model'\n",
    "model_path = sess.upload_data(path=model_archive, key_prefix=prefix)\n",
    "compiled_model_path = 's3://{}/{}/output'.format(bucket, compilation_job_name)"
   ]
  },
  {
   "cell_type": "markdown",
   "id": "9bbb751b",
   "metadata": {},
   "source": [
    "## Create a Amazon SageMaker model and endpoint  "
   ]
  },
  {
   "cell_type": "markdown",
   "id": "218d2690",
   "metadata": {},
   "source": [
    "An entry_point script isn’t necessary and can be a blank file."
   ]
  },
  {
   "cell_type": "code",
   "execution_count": null,
   "id": "51baa10b",
   "metadata": {},
   "outputs": [],
   "source": [
    "framework_version = '1.6'\n",
    "py_version = 'py3'\n",
    "instance_type = 'ml.c5.9xlarge'\n",
    "from sagemaker.pytorch.model import PyTorchModel\n",
    "from sagemaker.predictor import Predictor\n",
    "\n",
    "sm_model = PyTorchModel(model_data=model_path,\n",
    "                               framework_version=framework_version,\n",
    "                               role=role,\n",
    "                               sagemaker_session=sess,\n",
    "                               entry_point='blank.py',\n",
    "                               py_version=py_version,\n",
    "                               env={\"COMPILEDMODEL\": 'False', 'MMS_MAX_RESPONSE_SIZE': '100000000', 'MMS_DEFAULT_RESPONSE_TIMEOUT': '500'}\n",
    "                              )\n",
    "uncompiled_predictor = sm_model.deploy(initial_instance_count=1, instance_type=instance_type)"
   ]
  },
  {
   "cell_type": "markdown",
   "id": "54c315df",
   "metadata": {},
   "source": [
    "## Use Neo to compile the model"
   ]
  },
  {
   "cell_type": "code",
   "execution_count": null,
   "id": "3f85aa3d",
   "metadata": {},
   "outputs": [],
   "source": [
    "input_layer_name = 'input0'\n",
    "input_shape = [1,3,416,416]\n",
    "data_shape = json.dumps({input_layer_name: input_shape})\n",
    "target_device = 'ml_c5'\n",
    "framework = 'PYTORCH'\n",
    "compiled_env = {\"MMS_DEFAULT_WORKERS_PER_MODEL\":'1', \"TVM_NUM_THREADS\": '36', \"COMPILEDMODEL\": 'True', 'MMS_MAX_RESPONSE_SIZE': '100000000', 'MMS_DEFAULT_RESPONSE_TIMEOUT': '500'}\n",
    "sm_model_compiled = PyTorchModel(model_data=model_path,\n",
    "                               framework_version = framework_version,\n",
    "                               role=role,\n",
    "                               sagemaker_session=sess,\n",
    "                               entry_point='blank.py',\n",
    "                               py_version=py_version,\n",
    "                               env=compiled_env\n",
    "                              )\n",
    "compiled_model = sm_model_compiled.compile(target_instance_family=target_device, \n",
    "                                         input_shape=data_shape,\n",
    "                                         job_name=compilation_job_name,\n",
    "                                         role=role,\n",
    "                                         framework=framework.lower(),\n",
    "                                         framework_version=framework_version,\n",
    "                                         output_path=compiled_model_path\n",
    "                                        )"
   ]
  },
  {
   "cell_type": "markdown",
   "id": "5ff458be",
   "metadata": {},
   "source": [
    "## Deploy the compiled model as an optimized predictor"
   ]
  },
  {
   "cell_type": "code",
   "execution_count": null,
   "id": "b032c60d",
   "metadata": {},
   "outputs": [],
   "source": [
    "optimized_predictor = compiled_model.deploy(initial_instance_count = 1,\n",
    "                                  instance_type = instance_type\n",
    "                                 )"
   ]
  },
  {
   "cell_type": "markdown",
   "id": "018a0384",
   "metadata": {},
   "source": [
    "## Make predictions using the endpoints"
   ]
  },
  {
   "cell_type": "code",
   "execution_count": null,
   "id": "56802d93",
   "metadata": {},
   "outputs": [],
   "source": [
    "iters = 1000\n",
    "warmup = 100\n",
    "client = boto3.client('sagemaker-runtime', region_name=region)\n",
    "\n",
    "content_type = 'application/x-image'\n",
    "\n",
    "sample_img_url = \"https://github.com/ultralytics/yolov5/raw/master/data/images/zidane.jpg\"\n",
    "body = requests.get(sample_img_url).content\n",
    "   \n",
    "compiled_perf = []\n",
    "uncompiled_perf = []\n",
    "  \n",
    "for i in range(iters):\n",
    "    t0 = time.time()\n",
    "    response = client.invoke_endpoint(EndpointName=optimized_predictor.endpoint_name, Body=body, ContentType=content_type)\n",
    "    t1 = time.time()\n",
    "    #convert to millis\n",
    "    compiled_elapsed = (t1-t0)*1000\n",
    "\n",
    "    t0 = time.time()\n",
    "    response = client.invoke_endpoint(EndpointName=uncompiled_predictor.endpoint_name, Body=body, ContentType=content_type)\n",
    "    t1 = time.time()\n",
    "    #convert to millis\n",
    "    uncompiled_elapsed = (t1-t0)*1000\n",
    "    \n",
    "\n",
    "    if warmup == 0:\n",
    "        compiled_perf.append(compiled_elapsed)\n",
    "        uncompiled_perf.append(uncompiled_elapsed)\n",
    "    else:\n",
    "        print(f'warmup ({i}, {iters}) : c - {compiled_elapsed} ms . uc - {uncompiled_elapsed} ms')\n",
    "        warmup = warmup - 1"
   ]
  },
  {
   "cell_type": "code",
   "execution_count": null,
   "id": "d277a149",
   "metadata": {},
   "outputs": [],
   "source": []
  }
 ],
 "metadata": {
  "kernelspec": {
   "display_name": "conda_amazonei_pytorch_latest_p37",
   "language": "python",
   "name": "conda_amazonei_pytorch_latest_p37"
  },
  "language_info": {
   "codemirror_mode": {
    "name": "ipython",
    "version": 3
   },
   "file_extension": ".py",
   "mimetype": "text/x-python",
   "name": "python",
   "nbconvert_exporter": "python",
   "pygments_lexer": "ipython3",
   "version": "3.7.12"
  }
 },
 "nbformat": 4,
 "nbformat_minor": 5
}
