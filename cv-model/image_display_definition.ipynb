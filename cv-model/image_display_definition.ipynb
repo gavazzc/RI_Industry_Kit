{
 "cells": [
  {
   "cell_type": "markdown",
   "id": "90a7d068",
   "metadata": {},
   "source": [
    "# Prerequisites"
   ]
  },
  {
   "cell_type": "markdown",
   "id": "83557c2f",
   "metadata": {},
   "source": [
    "## Libraries"
   ]
  },
  {
   "cell_type": "code",
   "execution_count": null,
   "id": "6ad786e2",
   "metadata": {},
   "outputs": [],
   "source": [
    "import sagemaker\n",
    "from matplotlib import pyplot as plt\n",
    "import matplotlib.patches as patches\n",
    "from PIL import Image as pil_image    # PIL is the Python Imaging Library\n",
    "import numpy as np\n",
    "import os\n",
    "import random\n",
    "from pathlib import Path"
   ]
  },
  {
   "cell_type": "markdown",
   "id": "0082de8f",
   "metadata": {},
   "source": [
    "## Constants"
   ]
  },
  {
   "cell_type": "code",
   "execution_count": null,
   "id": "9325ee34",
   "metadata": {},
   "outputs": [],
   "source": [
    "image_path = './panelscoco/images/'\n",
    "image_extension = '.jpg'\n",
    "label_path = './panelscoco/labels/'\n",
    "label_extension = '.txt'"
   ]
  },
  {
   "cell_type": "markdown",
   "id": "4bdc302d",
   "metadata": {},
   "source": [
    "## Data inspection"
   ]
  },
  {
   "cell_type": "code",
   "execution_count": null,
   "id": "de54d17c",
   "metadata": {},
   "outputs": [],
   "source": [
    "# img = pil_image.open('./panelscoco/images/0_1-0_thermal.jpg')\n",
    "# plt.imshow(np.array(img))\n",
    "# plt.show()"
   ]
  },
  {
   "cell_type": "code",
   "execution_count": null,
   "id": "fa8d24ca",
   "metadata": {},
   "outputs": [],
   "source": [
    "# boxes = np.genfromtxt('./panelscoco/labels/0_1-0_thermal.txt', delimiter=' ')\n",
    "# print('COCO format bounding box annotation')\n",
    "# print('class x_center y_center width height')\n",
    "# boxes"
   ]
  },
  {
   "cell_type": "markdown",
   "id": "0cb4d999",
   "metadata": {},
   "source": [
    "# Function to display image with all bounding boxes"
   ]
  },
  {
   "cell_type": "code",
   "execution_count": null,
   "id": "0fd72083",
   "metadata": {},
   "outputs": [],
   "source": [
    "def display_image_with_bounding_boxes (image, boxes):\n",
    "    # function to display an image with its bounding boxes\n",
    "    #\n",
    "    # image is a Python Image Library image object holding image\n",
    "    # boxes is a np.array holding bounding boxes\n",
    "    #    in COCO format bounding box annotation\n",
    "    #    [class, x_center, y_center, width, height]\n",
    "    #    in dimensions as a fraction of the whole\n",
    "\n",
    "    def add_bounding_box_to_image (axis, box, width, height):\n",
    "        # function to add a single bounding box to an image\n",
    "        #\n",
    "        # axis is MatLibPlot axis object\n",
    "        # box is np array holding dimensions for a single bounding box\n",
    "        #    in COCO format bounding box annotation\n",
    "        #    [class, x_center, y_center, width, height]\n",
    "        #    in dimensions as a fraction of the whole\n",
    "        # width is image width in pixels\n",
    "        # height is image height in pixels\n",
    "        \n",
    "        # Create a Rectangle patch for the box\n",
    "        rect = patches.Rectangle(((box[1]-box[3])*width, (box[2]-box[4])*height),\n",
    "                                 box[3]*width,\n",
    "                                 box[4]*height,\n",
    "                                 edgecolor='r',\n",
    "                                 facecolor='none')\n",
    "        axis.add_patch(rect)\n",
    "        \n",
    "    # get image width & height\n",
    "    width, height = image.size\n",
    "\n",
    "    # Create the figure and axis\n",
    "    fig, ax = plt.subplots()\n",
    "    \n",
    "    # set the image\n",
    "    ax.imshow(np.array(image))    # convert image to np.array for use by MatLibPlot imshow\n",
    "    \n",
    "    # loop through boxes to add each bounding box to the image\n",
    "    # get number of boxes\n",
    "    number_of_boxes = boxes.shape[0]    # index 0 returns first dimension, index 1 returns second dimension, etc.\n",
    "    for counter in range(number_of_boxes):    # loops from 0 to (number_of_boxes - 1)\n",
    "        # get a single box from boxes\n",
    "        box = boxes [counter]\n",
    "        # add the bounding box to the image\n",
    "        add_bounding_box_to_image (ax, box, width, height)\n",
    "    \n",
    "    # show the image with the bounding boxes\n",
    "    plt.show()"
   ]
  },
  {
   "cell_type": "markdown",
   "id": "7ea43c9e",
   "metadata": {},
   "source": [
    "## Randomly select four images and display them with there bounding boxes"
   ]
  },
  {
   "cell_type": "code",
   "execution_count": null,
   "id": "7cd2a052",
   "metadata": {},
   "outputs": [],
   "source": [
    "for counter in range(4):\n",
    "    # randomly get a filename with extension but without the path\n",
    "    image_filename = random.choice(os.listdir(image_path))\n",
    "    # get the stem of the filename\n",
    "    file_stem = Path(image_filename).stem\n",
    "    print(\"stem\", file_stem)\n",
    "    image_file = image_path + file_stem + image_extension    # create the full path to the image \n",
    "    label_file = label_path + file_stem + label_extension    # create the full path to the bounding box labels for the image\n",
    "    \n",
    "    if Path(label_path + file_stem + label_extension).stat().st_size > 0:    # ignore if the labels are empty\n",
    "        # image as a np.array holding image\n",
    "        image = pil_image.open(image_file)\n",
    "        # boxes as a np.array holding bounding boxes\n",
    "        boxes = np.genfromtxt(label_file, delimiter=' ')\n",
    "        display_image_with_bounding_boxes (image, boxes)\n",
    "    else:\n",
    "        print(\"... has no bounding box labels\")"
   ]
  },
  {
   "cell_type": "code",
   "execution_count": null,
   "id": "fa3ef6f3",
   "metadata": {},
   "outputs": [],
   "source": []
  }
 ],
 "metadata": {
  "kernelspec": {
   "display_name": "conda_amazonei_mxnet_p36",
   "language": "python",
   "name": "conda_amazonei_mxnet_p36"
  },
  "language_info": {
   "codemirror_mode": {
    "name": "ipython",
    "version": 3
   },
   "file_extension": ".py",
   "mimetype": "text/x-python",
   "name": "python",
   "nbconvert_exporter": "python",
   "pygments_lexer": "ipython3",
   "version": "3.6.13"
  }
 },
 "nbformat": 4,
 "nbformat_minor": 5
}
