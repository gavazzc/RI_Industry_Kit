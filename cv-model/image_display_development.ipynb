{
 "cells": [
  {
   "cell_type": "markdown",
   "id": "ea4e2359",
   "metadata": {},
   "source": [
    "## 1) Pre-requisites"
   ]
  },
  {
   "cell_type": "code",
   "execution_count": null,
   "id": "f4105403",
   "metadata": {},
   "outputs": [],
   "source": [
    "import sagemaker\n",
    "import numpy as np\n",
    "import glob\n",
    "import os\n",
    "from sagemaker.pytorch.estimator import PyTorch\n",
    "\n",
    "role = sagemaker.get_execution_role()\n",
    "sagemaker_session=sagemaker.Session()\n",
    "bucket_name = sagemaker_session.default_bucket()\n",
    "img_size=640\n",
    "# model_type='tiny' # tiny or ''\n",
    "# model_name='yolov4'if model_type=='' else f\"yolov4-{model_type}\""
   ]
  },
  {
   "cell_type": "code",
   "execution_count": null,
   "id": "8027b4a8",
   "metadata": {},
   "outputs": [],
   "source": [
    "!pwd"
   ]
  },
  {
   "cell_type": "markdown",
   "id": "3d32989e",
   "metadata": {},
   "source": [
    "## 2) The dataset\n",
    "\n",
    "Take a look on the labels format and create your dataset scructure following the same standard (COCO)."
   ]
  },
  {
   "cell_type": "code",
   "execution_count": null,
   "id": "6045c32b",
   "metadata": {},
   "outputs": [],
   "source": [
    "print('BBoxes annotation')\n",
    "print('class x_center y_center width height')\n",
    "!head panelscoco/labels/0_1-0_thermal.txt"
   ]
  },
  {
   "cell_type": "markdown",
   "id": "4a3bea12",
   "metadata": {},
   "source": [
    "## IPython.display"
   ]
  },
  {
   "cell_type": "code",
   "execution_count": null,
   "id": "8cc02775",
   "metadata": {},
   "outputs": [],
   "source": [
    "from IPython.display import Image as ipy_image"
   ]
  },
  {
   "cell_type": "code",
   "execution_count": null,
   "id": "11ccc82c",
   "metadata": {},
   "outputs": [],
   "source": [
    "ipy_image(filename='./panelscoco/images/0_1-0_thermal.jpg') "
   ]
  },
  {
   "cell_type": "markdown",
   "id": "10e3cc79",
   "metadata": {},
   "source": [
    "## MLU CV"
   ]
  },
  {
   "cell_type": "code",
   "execution_count": null,
   "id": "4909a632",
   "metadata": {},
   "outputs": [],
   "source": [
    "image_path=\"./panelscoco/images\""
   ]
  },
  {
   "cell_type": "code",
   "execution_count": null,
   "id": "9656858c",
   "metadata": {
    "scrolled": true
   },
   "outputs": [],
   "source": [
    "!ls ./panelscoco/images"
   ]
  },
  {
   "cell_type": "code",
   "execution_count": null,
   "id": "6b35a9f3",
   "metadata": {},
   "outputs": [],
   "source": [
    "%matplotlib inline\n",
    "from matplotlib import pyplot as plt\n",
    "import matplotlib.patches as patches\n",
    "# from PIL import Image\n",
    "\n",
    "img = Image.open('./panelscoco/images/0_1-0_thermal.jpg')\n",
    "plt.imshow(np.array(img))\n",
    "plt.show()"
   ]
  },
  {
   "cell_type": "code",
   "execution_count": null,
   "id": "8c8168b0",
   "metadata": {},
   "outputs": [],
   "source": [
    "width, height = img.size\n",
    "print(\"width\", width)\n",
    "print(\"height\", height)"
   ]
  },
  {
   "cell_type": "code",
   "execution_count": null,
   "id": "f454fcfc",
   "metadata": {},
   "outputs": [],
   "source": [
    "print('COCO bounding box annotation')\n",
    "print('class x_center y_center width height')\n",
    "!cat panelscoco/labels/0_1-0_thermal.txt"
   ]
  },
  {
   "cell_type": "code",
   "execution_count": null,
   "id": "783cb99d",
   "metadata": {},
   "outputs": [],
   "source": [
    "boxes = np.genfromtxt('./panelscoco/labels/0_1-0_thermal.txt', delimiter=' ')\n",
    "print('COCO format bounding box annotation')\n",
    "print('class x_center y_center width height')\n",
    "boxes"
   ]
  },
  {
   "cell_type": "code",
   "execution_count": null,
   "id": "248ebafc",
   "metadata": {},
   "outputs": [],
   "source": [
    "# from matplotlib import pyplot as plt\n",
    "# from PIL import Image\n",
    "#\n",
    "# Create figure and axes\n",
    "fig, ax = plt.subplots()\n",
    "ax.imshow(np.array(Image.open('./panelscoco/images/0_1-0_thermal.jpg')))\n",
    "# Create a Rectangle patch for the first box\n",
    "rect = patches.Rectangle(((boxes[0, 1]-boxes[0, 3])*width, (boxes[0, 2]-boxes[0, 4])*height),\n",
    "                         boxes[0, 3]*width,\n",
    "                         boxes[0, 4]*height,\n",
    "                         edgecolor='r',\n",
    "                         facecolor='none')\n",
    "ax.add_patch(rect)\n",
    "\n",
    "# Create a Rectangle patch for the second box\n",
    "rect = patches.Rectangle(((boxes[1, 1]-boxes[1, 3])*width, (boxes[1, 2]-boxes[1, 4])*height),\n",
    "                         boxes[1, 3]*width,\n",
    "                         boxes[1, 4]*height,\n",
    "                         edgecolor='b',\n",
    "                         facecolor='none')\n",
    "ax.add_patch(rect)\n",
    "plt.show()"
   ]
  }
 ],
 "metadata": {
  "instance_type": "ml.t3.medium",
  "kernelspec": {
   "display_name": "conda_amazonei_mxnet_p36",
   "language": "python",
   "name": "conda_amazonei_mxnet_p36"
  },
  "language_info": {
   "codemirror_mode": {
    "name": "ipython",
    "version": 3
   },
   "file_extension": ".py",
   "mimetype": "text/x-python",
   "name": "python",
   "nbconvert_exporter": "python",
   "pygments_lexer": "ipython3",
   "version": "3.6.13"
  }
 },
 "nbformat": 4,
 "nbformat_minor": 5
}
